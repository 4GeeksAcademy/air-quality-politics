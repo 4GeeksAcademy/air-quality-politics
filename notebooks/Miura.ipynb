{
 "cells": [
  {
   "cell_type": "code",
   "execution_count": 2,
   "id": "48d2c9ad",
   "metadata": {},
   "outputs": [
    {
     "name": "stdout",
     "output_type": "stream",
     "text": [
      "   codigo_provincia_x nombre_provincia   año     sexo   edad  poblacion  \\\n",
      "0                   1      ARABA ALAVA  2013  hombres    0-4       1286   \n",
      "1                   1      ARABA ALAVA  2013  hombres  15-24       2024   \n",
      "2                   1      ARABA ALAVA  2013  hombres  25-34       4296   \n",
      "3                   1      ARABA ALAVA  2013  hombres  35-44       4050   \n",
      "4                   1      ARABA ALAVA  2013  hombres  45-54       1642   \n",
      "\n",
      "   tasa_def_tot_1000hab  muertes_totales  muertes_respiratorias  \\\n",
      "0                  2.12                3                      0   \n",
      "1                  0.35                1                      0   \n",
      "2                  0.82                4                      0   \n",
      "3                  0.82                3                      6   \n",
      "4                  3.19                5                     39   \n",
      "\n",
      "   proporcion_muerte_respiratoria  ...  provincia_oficial  codigo_provincia_y  \\\n",
      "0                             0.0  ...              ÁLAVA                 1.0   \n",
      "1                             0.0  ...              ÁLAVA                 1.0   \n",
      "2                             0.0  ...              ÁLAVA                 1.0   \n",
      "3                             2.0  ...              ÁLAVA                 1.0   \n",
      "4                             7.8  ...              ÁLAVA                 1.0   \n",
      "\n",
      "  provincia provincia_gobierno_norm  Entidad_merge  mes  Entidad_norm  \\\n",
      "0     ÁLAVA                   ALAVA          ALAVA    1           NaN   \n",
      "1     ÁLAVA                   ALAVA          ALAVA    1           NaN   \n",
      "2     ÁLAVA                   ALAVA          ALAVA    1           NaN   \n",
      "3     ÁLAVA                   ALAVA          ALAVA    1           NaN   \n",
      "4     ÁLAVA                   ALAVA          ALAVA    1           NaN   \n",
      "\n",
      "  partido_gobernante_mes edad_min edad_max  \n",
      "0                    PNV      NaN      NaN  \n",
      "1                    PNV      NaN      NaN  \n",
      "2                    PNV      NaN      NaN  \n",
      "3                    PNV      NaN      NaN  \n",
      "4                    PNV      NaN      NaN  \n",
      "\n",
      "[5 rows x 29 columns]\n"
     ]
    }
   ],
   "source": [
    "import pandas as pd\n",
    "\n",
    "# Ruta al archivo CSV\n",
    "ruta_archivo = '/workspaces/air-quality-politics/data/raw/resultado_final_todo_con_gobierno_y_edades.csv'\n",
    "\n",
    "df = pd.read_csv(ruta_archivo, delimiter=';')\n",
    "\n",
    "# Mostrar las primeras filas para confirmar que se cargó correctamente\n",
    "print(df.head())"
   ]
  },
  {
   "cell_type": "code",
   "execution_count": 3,
   "id": "2a71a8bd",
   "metadata": {},
   "outputs": [
    {
     "name": "stdout",
     "output_type": "stream",
     "text": [
      "codigo_provincia_x                     0\n",
      "nombre_provincia                       0\n",
      "año                                    0\n",
      "sexo                                   0\n",
      "edad                                   0\n",
      "poblacion                              0\n",
      "tasa_def_tot_1000hab                   0\n",
      "muertes_totales                        0\n",
      "muertes_respiratorias                  0\n",
      "proporcion_muerte_respiratoria      1833\n",
      "tasa_muerte_respiratoria_1000hab       0\n",
      "VALOR_ICA                              0\n",
      "CATEGORIA_ICA                          0\n",
      "CONTAMINANTE                           0\n",
      "LATITUD_MEDIA                          0\n",
      "LONGITUD_MEDIA                         0\n",
      "ALTITUD_MEDIA                          0\n",
      "TIPO_AREA_MAS_FREC                     0\n",
      "ZONA_MAS_FREC                          0\n",
      "provincia_oficial                      0\n",
      "codigo_provincia_y                     0\n",
      "provincia                              0\n",
      "provincia_gobierno_norm                0\n",
      "Entidad_merge                       1440\n",
      "mes                                    0\n",
      "Entidad_norm                        9216\n",
      "partido_gobernante_mes              4536\n",
      "edad_min                            9360\n",
      "edad_max                            9360\n",
      "dtype: int64\n"
     ]
    }
   ],
   "source": [
    "# Mostrar cuántos valores nulos hay por columna\n",
    "print(df.isnull().sum())"
   ]
  },
  {
   "cell_type": "code",
   "execution_count": 4,
   "id": "16ca7178",
   "metadata": {},
   "outputs": [
    {
     "name": "stdout",
     "output_type": "stream",
     "text": [
      "   codigo_provincia nombre_provincia   año     sexo   edad  poblacion  \\\n",
      "0                 1      ARABA ALAVA  2013  hombres    0-4       1286   \n",
      "1                 1      ARABA ALAVA  2013  hombres  15-24       2024   \n",
      "2                 1      ARABA ALAVA  2013  hombres  25-34       4296   \n",
      "3                 1      ARABA ALAVA  2013  hombres  35-44       4050   \n",
      "4                 1      ARABA ALAVA  2013  hombres  45-54       1642   \n",
      "\n",
      "   tasa_def_tot_1000hab  muertes_totales  muertes_respiratorias  \\\n",
      "0                  2.12                3                      0   \n",
      "1                  0.35                1                      0   \n",
      "2                  0.82                4                      0   \n",
      "3                  0.82                3                      6   \n",
      "4                  3.19                5                     39   \n",
      "\n",
      "   proporcion_muerte_respiratoria  tasa_muerte_respiratoria_1000hab  \\\n",
      "0                             0.0                             0.000   \n",
      "1                             0.0                             0.000   \n",
      "2                             0.0                             0.000   \n",
      "3                             2.0                             1.481   \n",
      "4                             7.8                            23.752   \n",
      "\n",
      "   VALOR_ICA CATEGORIA_ICA CONTAMINANTE  LATITUD_MEDIA  LONGITUD_MEDIA  \\\n",
      "0       12.5         Buena           O3      42.848726       -2.745441   \n",
      "1       12.5         Buena           O3      42.848726       -2.745441   \n",
      "2       12.5         Buena           O3      42.848726       -2.745441   \n",
      "3       12.5         Buena           O3      42.848726       -2.745441   \n",
      "4       12.5         Buena           O3      42.848726       -2.745441   \n",
      "\n",
      "   ALTITUD_MEDIA TIPO_AREA_MAS_FREC          ZONA_MAS_FREC  \n",
      "0          456.0          SUBURBANA  RESIDENCIAL/COMERCIAL  \n",
      "1          456.0          SUBURBANA  RESIDENCIAL/COMERCIAL  \n",
      "2          456.0          SUBURBANA  RESIDENCIAL/COMERCIAL  \n",
      "3          456.0          SUBURBANA  RESIDENCIAL/COMERCIAL  \n",
      "4          456.0          SUBURBANA  RESIDENCIAL/COMERCIAL  \n"
     ]
    }
   ],
   "source": [
    "import pandas as pd\n",
    "\n",
    "# Ruta al archivo CSV\n",
    "ruta_archivo = '/workspaces/air-quality-politics/data/raw/resultado_final_con_ica_estaciones.csv'\n",
    "\n",
    "df = pd.read_csv(ruta_archivo, delimiter=';')\n",
    "\n",
    "# Mostrar las primeras filas para confirmar que se cargó correctamente\n",
    "print(df.head())"
   ]
  },
  {
   "cell_type": "code",
   "execution_count": 5,
   "id": "215591e5",
   "metadata": {},
   "outputs": [
    {
     "name": "stdout",
     "output_type": "stream",
     "text": [
      "   AÑO_MES    Periodo                 Nivel    Entidad Partido       Fecha\n",
      "0  2013-01  2013–2015      Gobierno Central     España      PP  2013-01-01\n",
      "1  2013-02  2013–2015  Capital de Provincia   Valencia      PP  2013-02-01\n",
      "2  2013-03  2013–2015  Capital de Provincia    Córdoba    PSOE  2013-03-01\n",
      "3  2013-04  2013–2015  Capital de Provincia    Almería      PP  2013-04-01\n",
      "4  2013-05  2013–2015  Capital de Provincia  Santander    PSOE  2013-05-01\n"
     ]
    }
   ],
   "source": [
    "import pandas as pd\n",
    "\n",
    "# Ruta del archivo\n",
    "ruta_csv = '/workspaces/air-quality-politics/data/gobiernos_espana_2013_2023_por_mes.csv'\n",
    "\n",
    "# Cargar el CSV\n",
    "df_gobiernos = pd.read_csv(ruta_csv)\n",
    "\n",
    "# Ver las primeras filas para confirmar que se cargó bien\n",
    "print(df_gobiernos.head())"
   ]
  },
  {
   "cell_type": "code",
   "execution_count": 7,
   "id": "4216dbf8",
   "metadata": {},
   "outputs": [
    {
     "name": "stdout",
     "output_type": "stream",
     "text": [
      "Index(['AÑO_MES', 'Periodo', 'Nivel', 'Entidad', 'Partido', 'Fecha'], dtype='object')\n"
     ]
    }
   ],
   "source": [
    "print(df.columns)"
   ]
  },
  {
   "cell_type": "code",
   "execution_count": 8,
   "id": "61ffab9c",
   "metadata": {},
   "outputs": [
    {
     "name": "stdout",
     "output_type": "stream",
     "text": [
      "✅ Archivo guardado con columna 'codigo_provincia'.\n"
     ]
    }
   ],
   "source": [
    "import pandas as pd\n",
    "\n",
    "# Cargar el archivo\n",
    "df = pd.read_csv('/workspaces/air-quality-politics/data/gobiernos_espana_2013_2023_por_mes.csv')\n",
    "\n",
    "# Diccionario inverso: nombre → código\n",
    "nombre_a_codigo = {\n",
    "    'Álava/Araba': 1, 'Albacete': 2, 'Alicante/Alacant': 3, 'Almería': 4, 'Ávila': 5,\n",
    "    'Badajoz': 6, 'Islas Baleares': 7, 'Barcelona': 8, 'Burgos': 9, 'Cáceres': 10,\n",
    "    'Cádiz': 11, 'Castellón/Castelló': 12, 'Ciudad Real': 13, 'Córdoba': 14, 'A Coruña/La Coruña': 15,\n",
    "    'Cuenca': 16, 'Girona/Gerona': 17, 'Granada': 18, 'Guadalajara': 19, 'Gipuzkoa': 20,\n",
    "    'Huelva': 21, 'Huesca': 22, 'Jaén': 23, 'León': 24, 'Lleida/Lérida': 25,\n",
    "    'La Rioja': 26, 'Lugo': 27, 'Madrid': 28, 'Málaga': 29, 'Murcia': 30,\n",
    "    'Navarra/Nafarroa': 31, 'Ourense/Orense': 32, 'Asturias/Principado de': 33, 'Palencia': 34,\n",
    "    'Las Palmas': 35, 'Pontevedra': 36, 'Salamanca': 37, 'Santa Cruz de Tenerife': 38,\n",
    "    'Cantabria': 39, 'Segovia': 40, 'Sevilla': 41, 'Soria': 42, 'Tarragona': 43,\n",
    "    'Teruel': 44, 'Toledo': 45, 'Valencia/València': 46, 'Valladolid': 47,\n",
    "    'Vizcaya/Bizkaia': 48, 'Zamora': 49, 'Zaragoza': 50\n",
    "}\n",
    "\n",
    "# Añadir columna de código INE\n",
    "df['codigo_provincia'] = df['Entidad'].map(nombre_a_codigo)\n",
    "\n",
    "# Guardar nuevo archivo\n",
    "df.to_csv('/workspaces/air-quality-politics/data/gobiernos_con_provincias_en_codigos.csv', index=False)\n",
    "\n",
    "print(\"✅ Archivo guardado con columna 'codigo_provincia'.\")\n"
   ]
  }
 ],
 "metadata": {
  "kernelspec": {
   "display_name": "Python 3",
   "language": "python",
   "name": "python3"
  },
  "language_info": {
   "codemirror_mode": {
    "name": "ipython",
    "version": 3
   },
   "file_extension": ".py",
   "mimetype": "text/x-python",
   "name": "python",
   "nbconvert_exporter": "python",
   "pygments_lexer": "ipython3",
   "version": "3.12.1"
  }
 },
 "nbformat": 4,
 "nbformat_minor": 5
}
