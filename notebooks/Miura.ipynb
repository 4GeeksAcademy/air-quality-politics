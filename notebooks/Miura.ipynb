{
 "cells": [
  {
   "cell_type": "code",
   "execution_count": 2,
   "id": "48d2c9ad",
   "metadata": {},
   "outputs": [
    {
     "name": "stdout",
     "output_type": "stream",
     "text": [
      "   codigo_provincia_x nombre_provincia   año     sexo   edad  poblacion  \\\n",
      "0                   1      ARABA ALAVA  2013  hombres    0-4       1286   \n",
      "1                   1      ARABA ALAVA  2013  hombres  15-24       2024   \n",
      "2                   1      ARABA ALAVA  2013  hombres  25-34       4296   \n",
      "3                   1      ARABA ALAVA  2013  hombres  35-44       4050   \n",
      "4                   1      ARABA ALAVA  2013  hombres  45-54       1642   \n",
      "\n",
      "   tasa_def_tot_1000hab  muertes_totales  muertes_respiratorias  \\\n",
      "0                  2.12                3                      0   \n",
      "1                  0.35                1                      0   \n",
      "2                  0.82                4                      0   \n",
      "3                  0.82                3                      6   \n",
      "4                  3.19                5                     39   \n",
      "\n",
      "   proporcion_muerte_respiratoria  ...  provincia_oficial  codigo_provincia_y  \\\n",
      "0                             0.0  ...              ÁLAVA                 1.0   \n",
      "1                             0.0  ...              ÁLAVA                 1.0   \n",
      "2                             0.0  ...              ÁLAVA                 1.0   \n",
      "3                             2.0  ...              ÁLAVA                 1.0   \n",
      "4                             7.8  ...              ÁLAVA                 1.0   \n",
      "\n",
      "  provincia provincia_gobierno_norm  Entidad_merge  mes  Entidad_norm  \\\n",
      "0     ÁLAVA                   ALAVA          ALAVA    1           NaN   \n",
      "1     ÁLAVA                   ALAVA          ALAVA    1           NaN   \n",
      "2     ÁLAVA                   ALAVA          ALAVA    1           NaN   \n",
      "3     ÁLAVA                   ALAVA          ALAVA    1           NaN   \n",
      "4     ÁLAVA                   ALAVA          ALAVA    1           NaN   \n",
      "\n",
      "  partido_gobernante_mes edad_min edad_max  \n",
      "0                    PNV      NaN      NaN  \n",
      "1                    PNV      NaN      NaN  \n",
      "2                    PNV      NaN      NaN  \n",
      "3                    PNV      NaN      NaN  \n",
      "4                    PNV      NaN      NaN  \n",
      "\n",
      "[5 rows x 29 columns]\n"
     ]
    }
   ],
   "source": [
    "import pandas as pd\n",
    "\n",
    "# Ruta al archivo CSV\n",
    "ruta_archivo = '/workspaces/air-quality-politics/data/raw/resultado_final_todo_con_gobierno_y_edades.csv'\n",
    "\n",
    "df = pd.read_csv(ruta_archivo, delimiter=';')\n",
    "\n",
    "# Mostrar las primeras filas para confirmar que se cargó correctamente\n",
    "print(df.head())"
   ]
  },
  {
   "cell_type": "code",
   "execution_count": 3,
   "id": "2a71a8bd",
   "metadata": {},
   "outputs": [
    {
     "name": "stdout",
     "output_type": "stream",
     "text": [
      "codigo_provincia_x                     0\n",
      "nombre_provincia                       0\n",
      "año                                    0\n",
      "sexo                                   0\n",
      "edad                                   0\n",
      "poblacion                              0\n",
      "tasa_def_tot_1000hab                   0\n",
      "muertes_totales                        0\n",
      "muertes_respiratorias                  0\n",
      "proporcion_muerte_respiratoria      1833\n",
      "tasa_muerte_respiratoria_1000hab       0\n",
      "VALOR_ICA                              0\n",
      "CATEGORIA_ICA                          0\n",
      "CONTAMINANTE                           0\n",
      "LATITUD_MEDIA                          0\n",
      "LONGITUD_MEDIA                         0\n",
      "ALTITUD_MEDIA                          0\n",
      "TIPO_AREA_MAS_FREC                     0\n",
      "ZONA_MAS_FREC                          0\n",
      "provincia_oficial                      0\n",
      "codigo_provincia_y                     0\n",
      "provincia                              0\n",
      "provincia_gobierno_norm                0\n",
      "Entidad_merge                       1440\n",
      "mes                                    0\n",
      "Entidad_norm                        9216\n",
      "partido_gobernante_mes              4536\n",
      "edad_min                            9360\n",
      "edad_max                            9360\n",
      "dtype: int64\n"
     ]
    }
   ],
   "source": [
    "# Mostrar cuántos valores nulos hay por columna\n",
    "print(df.isnull().sum())"
   ]
  },
  {
   "cell_type": "code",
   "execution_count": 4,
   "id": "16ca7178",
   "metadata": {},
   "outputs": [
    {
     "name": "stdout",
     "output_type": "stream",
     "text": [
      "   codigo_provincia nombre_provincia   año     sexo   edad  poblacion  \\\n",
      "0                 1      ARABA ALAVA  2013  hombres    0-4       1286   \n",
      "1                 1      ARABA ALAVA  2013  hombres  15-24       2024   \n",
      "2                 1      ARABA ALAVA  2013  hombres  25-34       4296   \n",
      "3                 1      ARABA ALAVA  2013  hombres  35-44       4050   \n",
      "4                 1      ARABA ALAVA  2013  hombres  45-54       1642   \n",
      "\n",
      "   tasa_def_tot_1000hab  muertes_totales  muertes_respiratorias  \\\n",
      "0                  2.12                3                      0   \n",
      "1                  0.35                1                      0   \n",
      "2                  0.82                4                      0   \n",
      "3                  0.82                3                      6   \n",
      "4                  3.19                5                     39   \n",
      "\n",
      "   proporcion_muerte_respiratoria  tasa_muerte_respiratoria_1000hab  \\\n",
      "0                             0.0                             0.000   \n",
      "1                             0.0                             0.000   \n",
      "2                             0.0                             0.000   \n",
      "3                             2.0                             1.481   \n",
      "4                             7.8                            23.752   \n",
      "\n",
      "   VALOR_ICA CATEGORIA_ICA CONTAMINANTE  LATITUD_MEDIA  LONGITUD_MEDIA  \\\n",
      "0       12.5         Buena           O3      42.848726       -2.745441   \n",
      "1       12.5         Buena           O3      42.848726       -2.745441   \n",
      "2       12.5         Buena           O3      42.848726       -2.745441   \n",
      "3       12.5         Buena           O3      42.848726       -2.745441   \n",
      "4       12.5         Buena           O3      42.848726       -2.745441   \n",
      "\n",
      "   ALTITUD_MEDIA TIPO_AREA_MAS_FREC          ZONA_MAS_FREC  \n",
      "0          456.0          SUBURBANA  RESIDENCIAL/COMERCIAL  \n",
      "1          456.0          SUBURBANA  RESIDENCIAL/COMERCIAL  \n",
      "2          456.0          SUBURBANA  RESIDENCIAL/COMERCIAL  \n",
      "3          456.0          SUBURBANA  RESIDENCIAL/COMERCIAL  \n",
      "4          456.0          SUBURBANA  RESIDENCIAL/COMERCIAL  \n"
     ]
    }
   ],
   "source": [
    "import pandas as pd\n",
    "\n",
    "# Ruta al archivo CSV\n",
    "ruta_archivo = '/workspaces/air-quality-politics/data/raw/resultado_final_con_ica_estaciones.csv'\n",
    "\n",
    "df = pd.read_csv(ruta_archivo, delimiter=';')\n",
    "\n",
    "# Mostrar las primeras filas para confirmar que se cargó correctamente\n",
    "print(df.head())"
   ]
  },
  {
   "cell_type": "code",
   "execution_count": 5,
   "id": "215591e5",
   "metadata": {},
   "outputs": [
    {
     "name": "stdout",
     "output_type": "stream",
     "text": [
      "Empty DataFrame\n",
      "Columns: [AÑO_MES, Periodo, Nivel, Entidad, Partido, Fecha, Entidad_norm, Codigo_INE]\n",
      "Index: []\n"
     ]
    }
   ],
   "source": [
    "import pandas as pd\n",
    "\n",
    "# Ruta del archivo\n",
    "ruta_csv = '/workspaces/air-quality-politics/data/gobiernos_espana_2013_2023_por_mes.csv'\n",
    "\n",
    "# Cargar el CSV\n",
    "df_gobiernos = pd.read_csv(ruta_csv)\n",
    "\n",
    "# Ver las primeras filas para confirmar que se cargó bien\n",
    "print(df_gobiernos.head())"
   ]
  },
  {
   "cell_type": "code",
   "execution_count": 6,
   "id": "4216dbf8",
   "metadata": {},
   "outputs": [
    {
     "name": "stdout",
     "output_type": "stream",
     "text": [
      "Index(['codigo_provincia', 'nombre_provincia', 'año', 'sexo', 'edad',\n",
      "       'poblacion', 'tasa_def_tot_1000hab', 'muertes_totales',\n",
      "       'muertes_respiratorias', 'proporcion_muerte_respiratoria',\n",
      "       'tasa_muerte_respiratoria_1000hab', 'VALOR_ICA', 'CATEGORIA_ICA',\n",
      "       'CONTAMINANTE', 'LATITUD_MEDIA', 'LONGITUD_MEDIA', 'ALTITUD_MEDIA',\n",
      "       'TIPO_AREA_MAS_FREC', 'ZONA_MAS_FREC'],\n",
      "      dtype='object')\n"
     ]
    }
   ],
   "source": [
    "print(df.columns)"
   ]
  },
  {
   "cell_type": "code",
   "execution_count": 7,
   "id": "e40a902b",
   "metadata": {},
   "outputs": [
    {
     "name": "stdout",
     "output_type": "stream",
     "text": [
      "Empty DataFrame\n",
      "Columns: [Entidad, Codigo_INE]\n",
      "Index: []\n"
     ]
    }
   ],
   "source": [
    "import pandas as pd\n",
    "\n",
    "# Cargar los datos\n",
    "df = pd.read_csv('/workspaces/air-quality-politics/data/gobiernos_espana_2013_2023_por_mes.csv')\n",
    "\n",
    "# Diccionario de códigos INE de provincias\n",
    "codigos_ine = {\n",
    "    'Álava': '01', 'Albacete': '02', 'Alicante': '03', 'Almería': '04',\n",
    "    'Ávila': '05', 'Badajoz': '06', 'Baleares': '07', 'Barcelona': '08',\n",
    "    'Burgos': '09', 'Cáceres': '10', 'Cádiz': '11', 'Castellón': '12',\n",
    "    'Ciudad Real': '13', 'Córdoba': '14', 'La Coruña': '15', 'Cuenca': '16',\n",
    "    'Gerona': '17', 'Granada': '18', 'Guadalajara': '19', 'Guipúzcoa': '20',\n",
    "    'Huelva': '21', 'Huesca': '22', 'Jaén': '23', 'León': '24',\n",
    "    'Lérida': '25', 'La Rioja': '26', 'Lugo': '27', 'Madrid': '28',\n",
    "    'Málaga': '29', 'Murcia': '30', 'Navarra': '31', 'Orense': '32',\n",
    "    'Asturias': '33', 'Palencia': '34', 'Las Palmas': '35', 'Pontevedra': '36',\n",
    "    'Salamanca': '37', 'Santa Cruz de Tenerife': '38', 'Cantabria': '39',\n",
    "    'Segovia': '40', 'Sevilla': '41', 'Soria': '42', 'Tarragona': '43',\n",
    "    'Teruel': '44', 'Toledo': '45', 'Valencia': '46', 'Valladolid': '47',\n",
    "    'Vizcaya': '48', 'Zamora': '49', 'Zaragoza': '50', 'Ceuta': '51', 'Melilla': '52'\n",
    "}\n",
    "\n",
    "# Añadir la columna Codigo_INE mapeando por Entidad (puede ser NaN donde no exista)\n",
    "df['Codigo_INE'] = df['Entidad'].map(codigos_ine)\n",
    "\n",
    "# Guardar el CSV modificado (puedes sobreescribir o crear uno nuevo)\n",
    "df.to_csv('/workspaces/air-quality-politics/notebooks/provincias_con_codigos.csv', index=False)\n",
    "\n",
    "# Mostrar ejemplo para revisar\n",
    "print(df[['Entidad', 'Codigo_INE']].drop_duplicates().sort_values('Codigo_INE'))\n",
    "\n"
   ]
  },
  {
   "cell_type": "code",
   "execution_count": 8,
   "id": "987d144a",
   "metadata": {},
   "outputs": [],
   "source": [
    "codigos_ine = {\n",
    "    'Álava': '01', 'Albacete': '02', 'Alicante': '03', 'Almería': '04',\n",
    "    'Ávila': '05', 'Badajoz': '06', 'Baleares': '07', 'Palma de Mallorca': '07',\n",
    "    'Barcelona': '08', 'Burgos': '09', 'Cáceres': '10', 'Cádiz': '11',\n",
    "    'Castellón': '12', 'Ciudad Real': '13', 'Córdoba': '14', 'La Coruña': '15',\n",
    "    'A Coruña': '15', 'Cuenca': '16', 'Gerona': '17', 'Girona': '17',\n",
    "    'Granada': '18', 'Guadalajara': '19', 'Guipúzcoa': '20', 'Huelva': '21',\n",
    "    'Huesca': '22', 'Jaén': '23', 'León': '24', 'Lérida': '25', 'Lleida': '25',\n",
    "    'La Rioja': '26', 'Lugo': '27', 'Madrid': '28', 'Málaga': '29', 'Murcia': '30',\n",
    "    'Navarra': '31', 'Orense': '32', 'Ourense': '32',\n",
    "    'Asturias': '33', 'Oviedo': '33',\n",
    "    'Palencia': '34', 'Las Palmas': '35', 'Pontevedra': '36', 'Salamanca': '37',\n",
    "    'Santa Cruz de Tenerife': '38', 'Cantabria': '39', 'Segovia': '40',\n",
    "    'Sevilla': '41', 'Soria': '42', 'Tarragona': '43', 'Teruel': '44',\n",
    "    'Toledo': '45', 'Valencia': '46', 'Valladolid': '47', 'Vizcaya': '48',\n",
    "    'Zamora': '49', 'Zaragoza': '50', 'Ceuta': '51', 'Melilla': '52',\n",
    "    'País Vasco': None  # Porque es comunidad autónoma, no provincia\n",
    "}\n"
   ]
  },
  {
   "cell_type": "code",
   "execution_count": 9,
   "id": "544a44fd",
   "metadata": {},
   "outputs": [],
   "source": [
    "# Normalizar texto para evitar problemas con mayúsculas, tildes o espacios\n",
    "df['Entidad'] = df['Entidad'].str.strip().str.normalize('NFKD').str.encode('ascii', errors='ignore').str.decode('utf-8')\n",
    "\n",
    "# Luego haces el mapeo con un diccionario actualizado\n",
    "df['Codigo_INE'] = df['Entidad'].map(codigos_ine)\n"
   ]
  },
  {
   "cell_type": "code",
   "execution_count": 10,
   "id": "1ecad79c",
   "metadata": {},
   "outputs": [
    {
     "name": "stdout",
     "output_type": "stream",
     "text": [
      "Empty DataFrame\n",
      "Columns: [Entidad, Codigo_INE]\n",
      "Index: []\n"
     ]
    }
   ],
   "source": [
    "\n",
    "# Guardar el CSV modificado (puedes sobreescribir o crear uno nuevo)\n",
    "df.to_csv('/workspaces/air-quality-politics/notebooks/provincias_con_codigos.csv', index=False)\n",
    "\n",
    "# Mostrar ejemplo para revisar\n",
    "print(df[['Entidad', 'Codigo_INE']].drop_duplicates().sort_values('Codigo_INE'))\n"
   ]
  },
  {
   "cell_type": "code",
   "execution_count": 11,
   "id": "8cf3754a",
   "metadata": {},
   "outputs": [],
   "source": [
    "import unicodedata\n",
    "\n",
    "def normalize_text(text):\n",
    "    if isinstance(text, str):\n",
    "        # Quitar tildes\n",
    "        text = unicodedata.normalize('NFKD', text).encode('ASCII', 'ignore').decode('utf-8')\n",
    "        # Poner en minúsculas o dejar tal cual\n",
    "        return text\n",
    "    return text\n",
    "\n",
    "df['Entidad_norm'] = df['Entidad'].apply(normalize_text)\n",
    "\n",
    "# Normaliza también las claves del diccionario\n",
    "codigos_ine_norm = {normalize_text(k): v for k, v in codigos_ine.items()}\n",
    "\n",
    "# Ahora haces el mapeo con la columna normalizada\n",
    "df['Codigo_INE'] = df['Entidad_norm'].map(codigos_ine_norm)\n"
   ]
  },
  {
   "cell_type": "code",
   "execution_count": 12,
   "id": "fa976af9",
   "metadata": {},
   "outputs": [
    {
     "name": "stdout",
     "output_type": "stream",
     "text": [
      "Filas sin código INE asignado:\n",
      "Empty DataFrame\n",
      "Columns: [Entidad, Codigo_INE]\n",
      "Index: []\n"
     ]
    }
   ],
   "source": [
    "# Mostrar filas sin código INE asignado\n",
    "faltantes = df[df['Codigo_INE'].isna()][['Entidad', 'Codigo_INE']]\n",
    "print(\"Filas sin código INE asignado:\")\n",
    "print(faltantes)\n"
   ]
  },
  {
   "cell_type": "code",
   "execution_count": 13,
   "id": "bd1ba94a",
   "metadata": {},
   "outputs": [
    {
     "name": "stdout",
     "output_type": "stream",
     "text": [
      "Provincias sin código INE asignado:\n",
      "Empty DataFrame\n",
      "Columns: [Entidad, Codigo_INE]\n",
      "Index: []\n"
     ]
    }
   ],
   "source": [
    "# Filtrar filas donde 'Nivel' es 'Provincia' (o la columna que uses para indicar nivel)\n",
    "provincias = df[df['Nivel'] == 'Provincia']\n",
    "\n",
    "# Mostrar filas de provincias sin código INE asignado\n",
    "faltantes_provincias = provincias[provincias['Codigo_INE'].isna()]\n",
    "\n",
    "print(\"Provincias sin código INE asignado:\")\n",
    "print(faltantes_provincias[['Entidad', 'Codigo_INE']])\n"
   ]
  },
  {
   "cell_type": "code",
   "execution_count": 14,
   "id": "e9a674ce",
   "metadata": {},
   "outputs": [],
   "source": [
    "df.to_csv('/workspaces/air-quality-politics/notebooks/provincias_con_codigos.csv', index=False)\n"
   ]
  },
  {
   "cell_type": "code",
   "execution_count": 15,
   "id": "cf273662",
   "metadata": {},
   "outputs": [
    {
     "name": "stdout",
     "output_type": "stream",
     "text": [
      "Empty DataFrame\n",
      "Columns: [Entidad, Codigo_INE]\n",
      "Index: []\n"
     ]
    }
   ],
   "source": [
    "faltantes = df[df['Codigo_INE'].isna()][['Entidad', 'Codigo_INE']]\n",
    "print(faltantes)\n"
   ]
  },
  {
   "cell_type": "code",
   "execution_count": 16,
   "id": "5bc79708",
   "metadata": {},
   "outputs": [
    {
     "name": "stdout",
     "output_type": "stream",
     "text": [
      "Empty DataFrame\n",
      "Columns: [Entidad, Codigo_INE]\n",
      "Index: []\n"
     ]
    }
   ],
   "source": [
    "# Filtrar solo provincias\n",
    "df_provincias = df[df['Nivel'] == 'Provincia'].copy()\n",
    "\n",
    "# Mostrar filas sin código INE en provincias (debería salir vacío)\n",
    "faltantes_provincias = df_provincias[df_provincias['Codigo_INE'].isna()]\n",
    "print(faltantes_provincias[['Entidad', 'Codigo_INE']])\n"
   ]
  },
  {
   "cell_type": "code",
   "execution_count": 17,
   "id": "04050da0",
   "metadata": {},
   "outputs": [
    {
     "name": "stdout",
     "output_type": "stream",
     "text": [
      "CSV actualizado con códigos INE para provincias correctamente.\n"
     ]
    }
   ],
   "source": [
    "import pandas as pd\n",
    "import unicodedata\n",
    "\n",
    "# Cargar datos\n",
    "df = pd.read_csv('/workspaces/air-quality-politics/data/gobiernos_espana_2013_2023_por_mes.csv')\n",
    "\n",
    "# Diccionario códigos INE provincias\n",
    "codigos_ine = {\n",
    "    'Álava': '01', 'Albacete': '02', 'Alicante': '03', 'Almería': '04',\n",
    "    'Ávila': '05', 'Badajoz': '06', 'Baleares': '07', 'Barcelona': '08',\n",
    "    'Burgos': '09', 'Cáceres': '10', 'Cádiz': '11', 'Castellón': '12',\n",
    "    'Ciudad Real': '13', 'Córdoba': '14', 'La Coruña': '15', 'Cuenca': '16',\n",
    "    'Gerona': '17', 'Granada': '18', 'Guadalajara': '19', 'Guipúzcoa': '20',\n",
    "    'Huelva': '21', 'Huesca': '22', 'Jaén': '23', 'León': '24',\n",
    "    'Lérida': '25', 'La Rioja': '26', 'Lugo': '27', 'Madrid': '28',\n",
    "    'Málaga': '29', 'Murcia': '30', 'Navarra': '31', 'Orense': '32',\n",
    "    'Asturias': '33', 'Palencia': '34', 'Las Palmas': '35', 'Pontevedra': '36',\n",
    "    'Salamanca': '37', 'Santa Cruz de Tenerife': '38', 'Cantabria': '39',\n",
    "    'Segovia': '40', 'Sevilla': '41', 'Soria': '42', 'Tarragona': '43',\n",
    "    'Teruel': '44', 'Toledo': '45', 'Valencia': '46', 'Valladolid': '47',\n",
    "    'Vizcaya': '48', 'Zamora': '49', 'Zaragoza': '50', 'Ceuta': '51', 'Melilla': '52'\n",
    "}\n",
    "\n",
    "# Función para normalizar texto y eliminar tildes\n",
    "def normalize_text(text):\n",
    "    if isinstance(text, str):\n",
    "        return unicodedata.normalize('NFKD', text).encode('ASCII', 'ignore').decode('utf-8')\n",
    "    return text\n",
    "\n",
    "# Normalizar columna 'Entidad'\n",
    "df['Entidad_norm'] = df['Entidad'].apply(normalize_text)\n",
    "\n",
    "# Crear diccionario normalizado\n",
    "codigos_ine_norm = {normalize_text(k): v for k, v in codigos_ine.items()}\n",
    "\n",
    "# Filtrar solo filas de nivel Provincia\n",
    "df_provincias = df[df['Nivel'] == 'Provincia'].copy()\n",
    "\n",
    "# Mapear código INE\n",
    "df_provincias['Codigo_INE'] = df_provincias['Entidad_norm'].map(codigos_ine_norm)\n",
    "\n",
    "# Guardar sobre el CSV original\n",
    "df_provincias.to_csv('/workspaces/air-quality-politics/data/gobiernos_espana_2013_2023_por_mes.csv', index=False)\n",
    "\n",
    "print(\"CSV actualizado con códigos INE para provincias correctamente.\")\n"
   ]
  },
  {
   "cell_type": "code",
   "execution_count": 18,
   "id": "50fd2c61",
   "metadata": {},
   "outputs": [
    {
     "name": "stdout",
     "output_type": "stream",
     "text": [
      "Empty DataFrame\n",
      "Columns: [Entidad, Codigo_INE]\n",
      "Index: []\n"
     ]
    }
   ],
   "source": [
    "print(df_provincias[['Entidad', 'Codigo_INE']].drop_duplicates().sort_values('Codigo_INE'))\n"
   ]
  },
  {
   "cell_type": "code",
   "execution_count": 19,
   "id": "d5ce59c0",
   "metadata": {},
   "outputs": [
    {
     "name": "stdout",
     "output_type": "stream",
     "text": [
      "Empty DataFrame\n",
      "Columns: [Entidad, Codigo_INE]\n",
      "Index: []\n"
     ]
    }
   ],
   "source": [
    "print(df_provincias[['Entidad', 'Codigo_INE']].drop_duplicates().sort_values('Codigo_INE'))\n"
   ]
  },
  {
   "cell_type": "code",
   "execution_count": 20,
   "id": "8fadbdc3",
   "metadata": {},
   "outputs": [
    {
     "name": "stdout",
     "output_type": "stream",
     "text": [
      "Provincias sin código INE asignado:\n",
      "Empty DataFrame\n",
      "Columns: [Entidad, Codigo_INE]\n",
      "Index: []\n"
     ]
    }
   ],
   "source": [
    "faltantes = df_provincias[df_provincias['Codigo_INE'].isna()]\n",
    "print(\"Provincias sin código INE asignado:\")\n",
    "print(faltantes[['Entidad', 'Codigo_INE']])\n"
   ]
  },
  {
   "cell_type": "code",
   "execution_count": 21,
   "id": "d1e489c5",
   "metadata": {},
   "outputs": [
    {
     "name": "stdout",
     "output_type": "stream",
     "text": [
      "Empty DataFrame\n",
      "Columns: [Entidad, Codigo_INE]\n",
      "Index: []\n"
     ]
    }
   ],
   "source": [
    "print(df_provincias[['Entidad', 'Codigo_INE']].drop_duplicates().sort_values('Codigo_INE'))\n"
   ]
  },
  {
   "cell_type": "code",
   "execution_count": 22,
   "id": "3b55b12c",
   "metadata": {},
   "outputs": [
    {
     "name": "stdout",
     "output_type": "stream",
     "text": [
      "[]\n"
     ]
    }
   ],
   "source": [
    "provincias = df[df['Nivel'] == 'Provincia']\n",
    "print(provincias['Entidad'].unique())"
   ]
  },
  {
   "cell_type": "code",
   "execution_count": 23,
   "id": "91c3663c",
   "metadata": {},
   "outputs": [],
   "source": [
    "df['Entidad'] = df['Entidad'].str.strip()\n"
   ]
  },
  {
   "cell_type": "code",
   "execution_count": 24,
   "id": "6bb925b5",
   "metadata": {},
   "outputs": [
    {
     "name": "stdout",
     "output_type": "stream",
     "text": [
      "[]\n"
     ]
    }
   ],
   "source": [
    "print(df['Nivel'].unique())\n"
   ]
  },
  {
   "cell_type": "code",
   "execution_count": 25,
   "id": "29246517",
   "metadata": {},
   "outputs": [],
   "source": [
    "df['Entidad_norm'] = df['Entidad'].str.strip()\n",
    "df['Codigo_INE'] = df['Entidad_norm'].map(codigos_ine)\n"
   ]
  },
  {
   "cell_type": "code",
   "execution_count": 26,
   "id": "a27b9b77",
   "metadata": {},
   "outputs": [
    {
     "name": "stdout",
     "output_type": "stream",
     "text": [
      "Valores únicos en Nivel:\n",
      "[]\n",
      "Provincias sin código INE:\n",
      "Empty DataFrame\n",
      "Columns: [Entidad, Codigo_INE]\n",
      "Index: []\n",
      "Empty DataFrame\n",
      "Columns: [Entidad, Codigo_INE]\n",
      "Index: []\n"
     ]
    }
   ],
   "source": [
    "# Limpiar espacios\n",
    "df['Entidad'] = df['Entidad'].str.strip()\n",
    "\n",
    "# Ver valores únicos nivel\n",
    "print(\"Valores únicos en Nivel:\")\n",
    "print(df['Nivel'].unique())\n",
    "\n",
    "# Filtrar provincias\n",
    "df_provincias = df[df['Nivel'].str.lower() == 'provincia'].copy()\n",
    "\n",
    "# Asignar código INE\n",
    "df_provincias['Codigo_INE'] = df_provincias['Entidad'].map(codigos_ine)\n",
    "\n",
    "# Mostrar provincias sin código INE\n",
    "faltantes = df_provincias[df_provincias['Codigo_INE'].isna()]\n",
    "print(\"Provincias sin código INE:\")\n",
    "print(faltantes[['Entidad', 'Codigo_INE']])\n",
    "\n",
    "# Mostrar todas las provincias con su código\n",
    "print(df_provincias[['Entidad', 'Codigo_INE']].drop_duplicates().sort_values('Codigo_INE'))\n"
   ]
  },
  {
   "cell_type": "code",
   "execution_count": 27,
   "id": "3703b3c4",
   "metadata": {},
   "outputs": [
    {
     "name": "stdout",
     "output_type": "stream",
     "text": [
      "                 Provincia Codigo_INE\n",
      "0                    Álava         01\n",
      "1                 Albacete         02\n",
      "2                 Alicante         03\n",
      "3                  Almería         04\n",
      "4                    Ávila         05\n",
      "5                  Badajoz         06\n",
      "6                 Baleares         07\n",
      "7                Barcelona         08\n",
      "8                   Burgos         09\n",
      "9                  Cáceres         10\n",
      "10                   Cádiz         11\n",
      "11               Castellón         12\n",
      "12             Ciudad Real         13\n",
      "13                 Córdoba         14\n",
      "14               La Coruña         15\n",
      "15                  Cuenca         16\n",
      "16                  Gerona         17\n",
      "17                 Granada         18\n",
      "18             Guadalajara         19\n",
      "19               Guipúzcoa         20\n",
      "20                  Huelva         21\n",
      "21                  Huesca         22\n",
      "22                    Jaén         23\n",
      "23                    León         24\n",
      "24                  Lérida         25\n",
      "25                La Rioja         26\n",
      "26                    Lugo         27\n",
      "27                  Madrid         28\n",
      "28                  Málaga         29\n",
      "29                  Murcia         30\n",
      "30                 Navarra         31\n",
      "31                  Orense         32\n",
      "32                Asturias         33\n",
      "33                Palencia         34\n",
      "34              Las Palmas         35\n",
      "35              Pontevedra         36\n",
      "36               Salamanca         37\n",
      "37  Santa Cruz de Tenerife         38\n",
      "38               Cantabria         39\n",
      "39                 Segovia         40\n",
      "40                 Sevilla         41\n",
      "41                   Soria         42\n",
      "42               Tarragona         43\n",
      "43                  Teruel         44\n",
      "44                  Toledo         45\n",
      "45                Valencia         46\n",
      "46              Valladolid         47\n",
      "47                 Vizcaya         48\n",
      "48                  Zamora         49\n",
      "49                Zaragoza         50\n",
      "50                   Ceuta         51\n",
      "51                 Melilla         52\n"
     ]
    }
   ],
   "source": [
    "import pandas as pd\n",
    "\n",
    "# Diccionario códigos INE provincias\n",
    "codigos_ine = {\n",
    "    'Álava': '01', 'Albacete': '02', 'Alicante': '03', 'Almería': '04',\n",
    "    'Ávila': '05', 'Badajoz': '06', 'Baleares': '07', 'Barcelona': '08',\n",
    "    'Burgos': '09', 'Cáceres': '10', 'Cádiz': '11', 'Castellón': '12',\n",
    "    'Ciudad Real': '13', 'Córdoba': '14', 'La Coruña': '15', 'Cuenca': '16',\n",
    "    'Gerona': '17', 'Granada': '18', 'Guadalajara': '19', 'Guipúzcoa': '20',\n",
    "    'Huelva': '21', 'Huesca': '22', 'Jaén': '23', 'León': '24',\n",
    "    'Lérida': '25', 'La Rioja': '26', 'Lugo': '27', 'Madrid': '28',\n",
    "    'Málaga': '29', 'Murcia': '30', 'Navarra': '31', 'Orense': '32',\n",
    "    'Asturias': '33', 'Palencia': '34', 'Las Palmas': '35', 'Pontevedra': '36',\n",
    "    'Salamanca': '37', 'Santa Cruz de Tenerife': '38', 'Cantabria': '39',\n",
    "    'Segovia': '40', 'Sevilla': '41', 'Soria': '42', 'Tarragona': '43',\n",
    "    'Teruel': '44', 'Toledo': '45', 'Valencia': '46', 'Valladolid': '47',\n",
    "    'Vizcaya': '48', 'Zamora': '49', 'Zaragoza': '50', 'Ceuta': '51', 'Melilla': '52'\n",
    "}\n",
    "\n",
    "# Crear DataFrame\n",
    "df_provincias = pd.DataFrame(list(codigos_ine.items()), columns=['Provincia', 'Codigo_INE'])\n",
    "\n",
    "# Ordenar por código INE\n",
    "df_provincias = df_provincias.sort_values('Codigo_INE')\n",
    "\n",
    "print(df_provincias)\n"
   ]
  },
  {
   "cell_type": "code",
   "execution_count": 28,
   "id": "99f297c5",
   "metadata": {},
   "outputs": [],
   "source": [
    "import pandas as pd\n",
    "\n",
    "# Carga tu CSV original\n",
    "df = pd.read_csv('/workspaces/air-quality-politics/data/gobiernos_espana_2013_2023_por_mes.csv')\n"
   ]
  },
  {
   "cell_type": "code",
   "execution_count": 29,
   "id": "fa01fb82",
   "metadata": {},
   "outputs": [],
   "source": [
    "codigos_ine = {\n",
    "    'Álava': '01', 'Albacete': '02', 'Alicante': '03', 'Almería': '04',\n",
    "    'Ávila': '05', 'Badajoz': '06', 'Baleares': '07', 'Barcelona': '08',\n",
    "    'Burgos': '09', 'Cáceres': '10', 'Cádiz': '11', 'Castellón': '12',\n",
    "    'Ciudad Real': '13', 'Córdoba': '14', 'La Coruña': '15', 'Cuenca': '16',\n",
    "    'Gerona': '17', 'Granada': '18', 'Guadalajara': '19', 'Guipúzcoa': '20',\n",
    "    'Huelva': '21', 'Huesca': '22', 'Jaén': '23', 'León': '24',\n",
    "    'Lérida': '25', 'La Rioja': '26', 'Lugo': '27', 'Madrid': '28',\n",
    "    'Málaga': '29', 'Murcia': '30', 'Navarra': '31', 'Orense': '32',\n",
    "    'Asturias': '33', 'Palencia': '34', 'Las Palmas': '35', 'Pontevedra': '36',\n",
    "    'Salamanca': '37', 'Santa Cruz de Tenerife': '38', 'Cantabria': '39',\n",
    "    'Segovia': '40', 'Sevilla': '41', 'Soria': '42', 'Tarragona': '43',\n",
    "    'Teruel': '44', 'Toledo': '45', 'Valencia': '46', 'Valladolid': '47',\n",
    "    'Vizcaya': '48', 'Zamora': '49', 'Zaragoza': '50', 'Ceuta': '51', 'Melilla': '52'\n",
    "}\n",
    "\n",
    "df_codigos = pd.DataFrame(list(codigos_ine.items()), columns=['Entidad', 'Codigo_INE'])\n"
   ]
  },
  {
   "cell_type": "code",
   "execution_count": 30,
   "id": "03fb3af7",
   "metadata": {},
   "outputs": [
    {
     "data": {
      "text/plain": [
       "<bound method NDFrame.head of Empty DataFrame\n",
       "Columns: [AÑO_MES, Periodo, Nivel, Entidad, Partido, Fecha, Entidad_norm, Codigo_INE]\n",
       "Index: []>"
      ]
     },
     "execution_count": 30,
     "metadata": {},
     "output_type": "execute_result"
    }
   ],
   "source": [
    "df.head"
   ]
  },
  {
   "cell_type": "code",
   "execution_count": 31,
   "id": "cdb20357",
   "metadata": {},
   "outputs": [],
   "source": [
    "df['Entidad'] = df['Entidad'].str.strip()\n",
    "df_codigos['Entidad'] = df_codigos['Entidad'].str.strip()\n"
   ]
  },
  {
   "cell_type": "code",
   "execution_count": 32,
   "id": "e45d5dde",
   "metadata": {},
   "outputs": [],
   "source": [
    "df_merged = df.merge(df_codigos, on='Entidad', how='left')\n"
   ]
  },
  {
   "cell_type": "code",
   "execution_count": 33,
   "id": "4a7f20a8",
   "metadata": {},
   "outputs": [
    {
     "name": "stdout",
     "output_type": "stream",
     "text": [
      "Archivo guardado con código INE en la ruta indicada.\n"
     ]
    }
   ],
   "source": [
    "df_merged.to_csv('/workspaces/air-quality-politics/notebooks/gobiernos_espana_con_codigo_ine.csv', index=False)\n",
    "print(\"Archivo guardado con código INE en la ruta indicada.\")\n"
   ]
  },
  {
   "cell_type": "code",
   "execution_count": 34,
   "id": "c1758622",
   "metadata": {},
   "outputs": [
    {
     "data": {
      "text/plain": [
       "<bound method NDFrame.head of Empty DataFrame\n",
       "Columns: [AÑO_MES, Periodo, Nivel, Entidad, Partido, Fecha, Entidad_norm, Codigo_INE_x, Codigo_INE_y]\n",
       "Index: []>"
      ]
     },
     "execution_count": 34,
     "metadata": {},
     "output_type": "execute_result"
    }
   ],
   "source": [
    "df_merged.head"
   ]
  },
  {
   "cell_type": "code",
   "execution_count": 35,
   "id": "ee500451",
   "metadata": {},
   "outputs": [
    {
     "name": "stdout",
     "output_type": "stream",
     "text": [
      "Empty DataFrame\n",
      "Columns: [Entidad, Codigo_INE]\n",
      "Index: []\n"
     ]
    }
   ],
   "source": [
    "import pandas as pd\n",
    "\n",
    "# Supongamos que tu DataFrame ya está cargado como df\n",
    "# Para detectar valores nulos o vacíos en la columna Codigo_INE\n",
    "faltan_codigo_ine = df[df['Codigo_INE'].isnull() | (df['Codigo_INE'] == '')]\n",
    "\n",
    "# Opcional: filtrar solo para 'Capital de Provincia' para ver provincias que faltan código\n",
    "faltan_codigo_ine_provincias = faltan_codigo_ine[faltan_codigo_ine['Nivel'] == 'Capital de Provincia']\n",
    "\n",
    "print(faltan_codigo_ine_provincias[['Entidad', 'Codigo_INE']].drop_duplicates())\n"
   ]
  },
  {
   "cell_type": "code",
   "execution_count": 36,
   "id": "d22a5c89",
   "metadata": {},
   "outputs": [
    {
     "name": "stdout",
     "output_type": "stream",
     "text": [
      "Filtrado completo. Provincias únicas restantes: 0\n"
     ]
    }
   ],
   "source": [
    "import pandas as pd\n",
    "\n",
    "# Suponiendo que ya tienes el DataFrame cargado, por ejemplo:\n",
    "# df = pd.read_csv(\"datos_partidos.csv\")\n",
    "\n",
    "# Lista de los 52 códigos INE válidos\n",
    "codigos_ine_52 = [\n",
    "    '01', '02', '03', '04', '05', '06', '07', '08', '09', '10',\n",
    "    '11', '12', '13', '14', '15', '16', '17', '18', '19', '20',\n",
    "    '21', '22', '23', '24', '25', '26', '27', '28', '29', '30',\n",
    "    '31', '32', '33', '34', '35', '36', '37', '38', '39', '40',\n",
    "    '41', '42', '43', '44', '45', '46', '47', '48', '49', '50',\n",
    "    '51', '52'  # Ceuta y Melilla\n",
    "]\n",
    "\n",
    "# Normalizar columna 'Codigo_INE' como string con ceros a la izquierda\n",
    "df['Codigo_INE'] = df['Codigo_INE'].astype(str).str.zfill(2)\n",
    "\n",
    "# Filtrar para quedarnos solo con provincias válidas\n",
    "df_filtrado = df[df['Codigo_INE'].isin(codigos_ine_52)].copy()\n",
    "\n",
    "# (Opcional) Guardar a CSV\n",
    "# df_filtrado.to_csv(\"provincias_52_filtradas.csv\", index=False)\n",
    "\n",
    "# Verifica\n",
    "print(f\"Filtrado completo. Provincias únicas restantes: {df_filtrado['Codigo_INE'].nunique()}\")\n"
   ]
  },
  {
   "cell_type": "code",
   "execution_count": 37,
   "id": "4e19fd8d",
   "metadata": {},
   "outputs": [
    {
     "data": {
      "text/html": [
       "<div>\n",
       "<style scoped>\n",
       "    .dataframe tbody tr th:only-of-type {\n",
       "        vertical-align: middle;\n",
       "    }\n",
       "\n",
       "    .dataframe tbody tr th {\n",
       "        vertical-align: top;\n",
       "    }\n",
       "\n",
       "    .dataframe thead th {\n",
       "        text-align: right;\n",
       "    }\n",
       "</style>\n",
       "<table border=\"1\" class=\"dataframe\">\n",
       "  <thead>\n",
       "    <tr style=\"text-align: right;\">\n",
       "      <th></th>\n",
       "      <th>AÑO_MES</th>\n",
       "      <th>Periodo</th>\n",
       "      <th>Nivel</th>\n",
       "      <th>Entidad</th>\n",
       "      <th>Partido</th>\n",
       "      <th>Fecha</th>\n",
       "      <th>Entidad_norm</th>\n",
       "      <th>Codigo_INE</th>\n",
       "    </tr>\n",
       "  </thead>\n",
       "  <tbody>\n",
       "  </tbody>\n",
       "</table>\n",
       "</div>"
      ],
      "text/plain": [
       "Empty DataFrame\n",
       "Columns: [AÑO_MES, Periodo, Nivel, Entidad, Partido, Fecha, Entidad_norm, Codigo_INE]\n",
       "Index: []"
      ]
     },
     "execution_count": 37,
     "metadata": {},
     "output_type": "execute_result"
    }
   ],
   "source": [
    "df_filtrado.head()"
   ]
  },
  {
   "cell_type": "code",
   "execution_count": 38,
   "id": "e8a6bf82",
   "metadata": {},
   "outputs": [
    {
     "name": "stdout",
     "output_type": "stream",
     "text": [
      "                    Causa de muerte     Sexo   Provincias  Periodo  mes  year  \\\n",
      "0  001-102  I-XXII.Todas las causas  Hombres  02 Albacete     2023    1  2023   \n",
      "1  001-102  I-XXII.Todas las causas  Hombres  02 Albacete     2023    2  2023   \n",
      "2  001-102  I-XXII.Todas las causas  Hombres  02 Albacete     2023    3  2023   \n",
      "3  001-102  I-XXII.Todas las causas  Hombres  02 Albacete     2023    4  2023   \n",
      "4  001-102  I-XXII.Todas las causas  Hombres  02 Albacete     2023    5  2023   \n",
      "\n",
      "   Muertes_por_causa  PROVINCIA  codigo_provincia  LATITUD_G  LONGITUD_G  \\\n",
      "0          18.876042          2                 2    38.9808     -1.8452   \n",
      "1          18.509008          2                 2    38.9808     -1.8452   \n",
      "2          19.977144          2                 2    38.9808     -1.8452   \n",
      "3          16.568970          2                 2    38.9808     -1.8452   \n",
      "4          14.733799          2                 2    38.9808     -1.8452   \n",
      "\n",
      "   ALTITUD  TIPO_AREA  VALOR_ICA         CATEGORIA_ICA  \n",
      "0    691.0  SUBURBANA  21.340762                 Buena  \n",
      "1    691.0  SUBURBANA  19.492554  Razonablemente buena  \n",
      "2    691.0  SUBURBANA  14.789029                 Buena  \n",
      "3    691.0  SUBURBANA  22.318882                 Buena  \n",
      "4    691.0  SUBURBANA  14.933468                 Buena  \n"
     ]
    }
   ],
   "source": [
    "df = pd.read_csv('/workspaces/air-quality-politics/data/df_full_completo.csv', delimiter=';', index_col=False)\n",
    "print(df.head())"
   ]
  },
  {
   "cell_type": "code",
   "execution_count": 39,
   "id": "ff7cb6e8",
   "metadata": {},
   "outputs": [
    {
     "name": "stdout",
     "output_type": "stream",
     "text": [
      "<class 'pandas.core.frame.DataFrame'>\n",
      "RangeIndex: 247104 entries, 0 to 247103\n",
      "Data columns (total 15 columns):\n",
      " #   Column             Non-Null Count   Dtype  \n",
      "---  ------             --------------   -----  \n",
      " 0   Causa de muerte    247104 non-null  object \n",
      " 1   Sexo               247104 non-null  object \n",
      " 2   Provincias         247104 non-null  object \n",
      " 3   Periodo            247104 non-null  int64  \n",
      " 4   mes                247104 non-null  int64  \n",
      " 5   year               247104 non-null  int64  \n",
      " 6   Muertes_por_causa  190080 non-null  float64\n",
      " 7   PROVINCIA          247104 non-null  int64  \n",
      " 8   codigo_provincia   247104 non-null  int64  \n",
      " 9   LATITUD_G          247104 non-null  float64\n",
      " 10  LONGITUD_G         247104 non-null  float64\n",
      " 11  ALTITUD            247104 non-null  float64\n",
      " 12  TIPO_AREA          247104 non-null  object \n",
      " 13  VALOR_ICA          240012 non-null  float64\n",
      " 14  CATEGORIA_ICA      240012 non-null  object \n",
      "dtypes: float64(5), int64(5), object(5)\n",
      "memory usage: 28.3+ MB\n"
     ]
    }
   ],
   "source": [
    "df.describe\n",
    "df.info()"
   ]
  },
  {
   "cell_type": "code",
   "execution_count": 40,
   "id": "7f3758b6",
   "metadata": {},
   "outputs": [
    {
     "data": {
      "text/plain": [
       "Index(['Causa de muerte', 'Sexo', 'Provincias', 'Periodo', 'mes', 'year',\n",
       "       'Muertes_por_causa', 'PROVINCIA', 'codigo_provincia', 'LATITUD_G',\n",
       "       'LONGITUD_G', 'ALTITUD', 'TIPO_AREA', 'VALOR_ICA', 'CATEGORIA_ICA'],\n",
       "      dtype='object')"
      ]
     },
     "execution_count": 40,
     "metadata": {},
     "output_type": "execute_result"
    }
   ],
   "source": [
    "df.columns"
   ]
  },
  {
   "cell_type": "code",
   "execution_count": 41,
   "id": "68c9f72c",
   "metadata": {},
   "outputs": [
    {
     "data": {
      "text/html": [
       "<div>\n",
       "<style scoped>\n",
       "    .dataframe tbody tr th:only-of-type {\n",
       "        vertical-align: middle;\n",
       "    }\n",
       "\n",
       "    .dataframe tbody tr th {\n",
       "        vertical-align: top;\n",
       "    }\n",
       "\n",
       "    .dataframe thead th {\n",
       "        text-align: right;\n",
       "    }\n",
       "</style>\n",
       "<table border=\"1\" class=\"dataframe\">\n",
       "  <thead>\n",
       "    <tr style=\"text-align: right;\">\n",
       "      <th></th>\n",
       "      <th>Causa de muerte</th>\n",
       "      <th>Sexo</th>\n",
       "      <th>Provincias</th>\n",
       "      <th>Periodo</th>\n",
       "      <th>mes</th>\n",
       "      <th>year</th>\n",
       "      <th>Muertes_por_causa</th>\n",
       "      <th>PROVINCIA</th>\n",
       "      <th>codigo_provincia</th>\n",
       "      <th>LATITUD_G</th>\n",
       "      <th>LONGITUD_G</th>\n",
       "      <th>ALTITUD</th>\n",
       "      <th>TIPO_AREA</th>\n",
       "      <th>VALOR_ICA</th>\n",
       "      <th>CATEGORIA_ICA</th>\n",
       "    </tr>\n",
       "  </thead>\n",
       "  <tbody>\n",
       "    <tr>\n",
       "      <th>0</th>\n",
       "      <td>001-102  I-XXII.Todas las causas</td>\n",
       "      <td>Hombres</td>\n",
       "      <td>02 Albacete</td>\n",
       "      <td>2023</td>\n",
       "      <td>1</td>\n",
       "      <td>2023</td>\n",
       "      <td>18.876042</td>\n",
       "      <td>2</td>\n",
       "      <td>2</td>\n",
       "      <td>38.9808</td>\n",
       "      <td>-1.8452</td>\n",
       "      <td>691.0</td>\n",
       "      <td>SUBURBANA</td>\n",
       "      <td>21.340762</td>\n",
       "      <td>Buena</td>\n",
       "    </tr>\n",
       "    <tr>\n",
       "      <th>1</th>\n",
       "      <td>001-102  I-XXII.Todas las causas</td>\n",
       "      <td>Hombres</td>\n",
       "      <td>02 Albacete</td>\n",
       "      <td>2023</td>\n",
       "      <td>2</td>\n",
       "      <td>2023</td>\n",
       "      <td>18.509008</td>\n",
       "      <td>2</td>\n",
       "      <td>2</td>\n",
       "      <td>38.9808</td>\n",
       "      <td>-1.8452</td>\n",
       "      <td>691.0</td>\n",
       "      <td>SUBURBANA</td>\n",
       "      <td>19.492554</td>\n",
       "      <td>Razonablemente buena</td>\n",
       "    </tr>\n",
       "    <tr>\n",
       "      <th>2</th>\n",
       "      <td>001-102  I-XXII.Todas las causas</td>\n",
       "      <td>Hombres</td>\n",
       "      <td>02 Albacete</td>\n",
       "      <td>2023</td>\n",
       "      <td>3</td>\n",
       "      <td>2023</td>\n",
       "      <td>19.977144</td>\n",
       "      <td>2</td>\n",
       "      <td>2</td>\n",
       "      <td>38.9808</td>\n",
       "      <td>-1.8452</td>\n",
       "      <td>691.0</td>\n",
       "      <td>SUBURBANA</td>\n",
       "      <td>14.789029</td>\n",
       "      <td>Buena</td>\n",
       "    </tr>\n",
       "    <tr>\n",
       "      <th>3</th>\n",
       "      <td>001-102  I-XXII.Todas las causas</td>\n",
       "      <td>Hombres</td>\n",
       "      <td>02 Albacete</td>\n",
       "      <td>2023</td>\n",
       "      <td>4</td>\n",
       "      <td>2023</td>\n",
       "      <td>16.568970</td>\n",
       "      <td>2</td>\n",
       "      <td>2</td>\n",
       "      <td>38.9808</td>\n",
       "      <td>-1.8452</td>\n",
       "      <td>691.0</td>\n",
       "      <td>SUBURBANA</td>\n",
       "      <td>22.318882</td>\n",
       "      <td>Buena</td>\n",
       "    </tr>\n",
       "    <tr>\n",
       "      <th>4</th>\n",
       "      <td>001-102  I-XXII.Todas las causas</td>\n",
       "      <td>Hombres</td>\n",
       "      <td>02 Albacete</td>\n",
       "      <td>2023</td>\n",
       "      <td>5</td>\n",
       "      <td>2023</td>\n",
       "      <td>14.733799</td>\n",
       "      <td>2</td>\n",
       "      <td>2</td>\n",
       "      <td>38.9808</td>\n",
       "      <td>-1.8452</td>\n",
       "      <td>691.0</td>\n",
       "      <td>SUBURBANA</td>\n",
       "      <td>14.933468</td>\n",
       "      <td>Buena</td>\n",
       "    </tr>\n",
       "    <tr>\n",
       "      <th>5</th>\n",
       "      <td>001-102  I-XXII.Todas las causas</td>\n",
       "      <td>Hombres</td>\n",
       "      <td>02 Albacete</td>\n",
       "      <td>2023</td>\n",
       "      <td>6</td>\n",
       "      <td>2023</td>\n",
       "      <td>14.943533</td>\n",
       "      <td>2</td>\n",
       "      <td>2</td>\n",
       "      <td>38.9808</td>\n",
       "      <td>-1.8452</td>\n",
       "      <td>691.0</td>\n",
       "      <td>SUBURBANA</td>\n",
       "      <td>11.785936</td>\n",
       "      <td>Buena</td>\n",
       "    </tr>\n",
       "    <tr>\n",
       "      <th>6</th>\n",
       "      <td>001-102  I-XXII.Todas las causas</td>\n",
       "      <td>Hombres</td>\n",
       "      <td>02 Albacete</td>\n",
       "      <td>2023</td>\n",
       "      <td>7</td>\n",
       "      <td>2023</td>\n",
       "      <td>14.995967</td>\n",
       "      <td>2</td>\n",
       "      <td>2</td>\n",
       "      <td>38.9808</td>\n",
       "      <td>-1.8452</td>\n",
       "      <td>691.0</td>\n",
       "      <td>SUBURBANA</td>\n",
       "      <td>20.134271</td>\n",
       "      <td>Razonablemente buena</td>\n",
       "    </tr>\n",
       "    <tr>\n",
       "      <th>7</th>\n",
       "      <td>001-102  I-XXII.Todas las causas</td>\n",
       "      <td>Hombres</td>\n",
       "      <td>02 Albacete</td>\n",
       "      <td>2023</td>\n",
       "      <td>8</td>\n",
       "      <td>2023</td>\n",
       "      <td>15.520301</td>\n",
       "      <td>2</td>\n",
       "      <td>2</td>\n",
       "      <td>38.9808</td>\n",
       "      <td>-1.8452</td>\n",
       "      <td>691.0</td>\n",
       "      <td>SUBURBANA</td>\n",
       "      <td>11.753692</td>\n",
       "      <td>Buena</td>\n",
       "    </tr>\n",
       "    <tr>\n",
       "      <th>8</th>\n",
       "      <td>001-102  I-XXII.Todas las causas</td>\n",
       "      <td>Hombres</td>\n",
       "      <td>02 Albacete</td>\n",
       "      <td>2023</td>\n",
       "      <td>9</td>\n",
       "      <td>2023</td>\n",
       "      <td>14.628933</td>\n",
       "      <td>2</td>\n",
       "      <td>2</td>\n",
       "      <td>38.9808</td>\n",
       "      <td>-1.8452</td>\n",
       "      <td>691.0</td>\n",
       "      <td>SUBURBANA</td>\n",
       "      <td>17.710419</td>\n",
       "      <td>Razonablemente buena</td>\n",
       "    </tr>\n",
       "    <tr>\n",
       "      <th>9</th>\n",
       "      <td>001-102  I-XXII.Todas las causas</td>\n",
       "      <td>Hombres</td>\n",
       "      <td>02 Albacete</td>\n",
       "      <td>2023</td>\n",
       "      <td>10</td>\n",
       "      <td>2023</td>\n",
       "      <td>14.628933</td>\n",
       "      <td>2</td>\n",
       "      <td>2</td>\n",
       "      <td>38.9808</td>\n",
       "      <td>-1.8452</td>\n",
       "      <td>691.0</td>\n",
       "      <td>SUBURBANA</td>\n",
       "      <td>16.948768</td>\n",
       "      <td>Razonablemente buena</td>\n",
       "    </tr>\n",
       "  </tbody>\n",
       "</table>\n",
       "</div>"
      ],
      "text/plain": [
       "                    Causa de muerte     Sexo   Provincias  Periodo  mes  year  \\\n",
       "0  001-102  I-XXII.Todas las causas  Hombres  02 Albacete     2023    1  2023   \n",
       "1  001-102  I-XXII.Todas las causas  Hombres  02 Albacete     2023    2  2023   \n",
       "2  001-102  I-XXII.Todas las causas  Hombres  02 Albacete     2023    3  2023   \n",
       "3  001-102  I-XXII.Todas las causas  Hombres  02 Albacete     2023    4  2023   \n",
       "4  001-102  I-XXII.Todas las causas  Hombres  02 Albacete     2023    5  2023   \n",
       "5  001-102  I-XXII.Todas las causas  Hombres  02 Albacete     2023    6  2023   \n",
       "6  001-102  I-XXII.Todas las causas  Hombres  02 Albacete     2023    7  2023   \n",
       "7  001-102  I-XXII.Todas las causas  Hombres  02 Albacete     2023    8  2023   \n",
       "8  001-102  I-XXII.Todas las causas  Hombres  02 Albacete     2023    9  2023   \n",
       "9  001-102  I-XXII.Todas las causas  Hombres  02 Albacete     2023   10  2023   \n",
       "\n",
       "   Muertes_por_causa  PROVINCIA  codigo_provincia  LATITUD_G  LONGITUD_G  \\\n",
       "0          18.876042          2                 2    38.9808     -1.8452   \n",
       "1          18.509008          2                 2    38.9808     -1.8452   \n",
       "2          19.977144          2                 2    38.9808     -1.8452   \n",
       "3          16.568970          2                 2    38.9808     -1.8452   \n",
       "4          14.733799          2                 2    38.9808     -1.8452   \n",
       "5          14.943533          2                 2    38.9808     -1.8452   \n",
       "6          14.995967          2                 2    38.9808     -1.8452   \n",
       "7          15.520301          2                 2    38.9808     -1.8452   \n",
       "8          14.628933          2                 2    38.9808     -1.8452   \n",
       "9          14.628933          2                 2    38.9808     -1.8452   \n",
       "\n",
       "   ALTITUD  TIPO_AREA  VALOR_ICA         CATEGORIA_ICA  \n",
       "0    691.0  SUBURBANA  21.340762                 Buena  \n",
       "1    691.0  SUBURBANA  19.492554  Razonablemente buena  \n",
       "2    691.0  SUBURBANA  14.789029                 Buena  \n",
       "3    691.0  SUBURBANA  22.318882                 Buena  \n",
       "4    691.0  SUBURBANA  14.933468                 Buena  \n",
       "5    691.0  SUBURBANA  11.785936                 Buena  \n",
       "6    691.0  SUBURBANA  20.134271  Razonablemente buena  \n",
       "7    691.0  SUBURBANA  11.753692                 Buena  \n",
       "8    691.0  SUBURBANA  17.710419  Razonablemente buena  \n",
       "9    691.0  SUBURBANA  16.948768  Razonablemente buena  "
      ]
     },
     "execution_count": 41,
     "metadata": {},
     "output_type": "execute_result"
    }
   ],
   "source": [
    "df.head(10)"
   ]
  },
  {
   "cell_type": "code",
   "execution_count": 42,
   "id": "5cebaaab",
   "metadata": {},
   "outputs": [
    {
     "name": "stdout",
     "output_type": "stream",
     "text": [
      "Duplicados: 0\n",
      "Causa de muerte          0\n",
      "Sexo                     0\n",
      "Provincias               0\n",
      "Periodo                  0\n",
      "mes                      0\n",
      "year                     0\n",
      "Muertes_por_causa    57024\n",
      "PROVINCIA                0\n",
      "codigo_provincia         0\n",
      "LATITUD_G                0\n",
      "LONGITUD_G               0\n",
      "ALTITUD                  0\n",
      "TIPO_AREA                0\n",
      "VALOR_ICA             7092\n",
      "CATEGORIA_ICA         7092\n",
      "dtype: int64\n"
     ]
    }
   ],
   "source": [
    "# Verificar duplicados\n",
    "print(f\"Duplicados: {df.duplicated().sum()}\")\n",
    "\n",
    "# Nulos por columna\n",
    "print(df.isnull().sum())\n",
    "\n",
    "# Eliminar duplicados si hay\n",
    "df = df.drop_duplicates()\n",
    "\n",
    "# Eliminar filas sin 'Muertes_por_causa' si no son útiles para el análisis\n",
    "df_clean = df.dropna(subset=[\"Muertes_por_causa\"])"
   ]
  },
  {
   "cell_type": "code",
   "execution_count": 43,
   "id": "95fa3e76",
   "metadata": {},
   "outputs": [
    {
     "name": "stdout",
     "output_type": "stream",
     "text": [
      "count    190080.000000\n",
      "mean        127.347206\n",
      "std         221.399735\n",
      "min           0.000000\n",
      "25%           7.846669\n",
      "50%          48.960628\n",
      "75%         150.406093\n",
      "max        7756.997250\n",
      "Name: Muertes_por_causa, dtype: float64\n",
      "Sexo\n",
      "Hombres    95040\n",
      "Mujeres    95040\n",
      "Name: count, dtype: int64\n",
      "CATEGORIA_ICA\n",
      "Buena                   175428\n",
      "Razonablemente buena      7452\n",
      "NaN                       7056\n",
      "Desfavorable               144\n",
      "Name: count, dtype: int64\n"
     ]
    }
   ],
   "source": [
    "print(df_clean[\"Muertes_por_causa\"].describe())\n",
    "\n",
    "# Conteo por sexo\n",
    "print(df_clean[\"Sexo\"].value_counts())\n",
    "\n",
    "# Conteo por categoría ICA\n",
    "print(df_clean[\"CATEGORIA_ICA\"].value_counts(dropna=False))\n"
   ]
  },
  {
   "cell_type": "code",
   "execution_count": 44,
   "id": "8ff3797b",
   "metadata": {},
   "outputs": [
    {
     "data": {
      "image/png": "[encoded data removed]",
      "text/plain": [
       "<Figure size 640x480 with 1 Axes>"
      ]
     },
     "metadata": {},
     "output_type": "display_data"
    }
   ],
   "source": [
    "import seaborn as sns\n",
    "import matplotlib.pyplot as plt\n",
    "\n",
    "sns.histplot(df_clean[\"Muertes_por_causa\"], bins=40, kde=True)\n",
    "plt.title(\"Distribución de muertes por causa\")\n",
    "plt.show()"
   ]
  },
  {
   "cell_type": "code",
   "execution_count": 45,
   "id": "05f0c80a",
   "metadata": {},
   "outputs": [
    {
     "data": {
      "image/png": "[encoded data removed]",
      "text/plain": [
       "<Figure size 640x480 with 1 Axes>"
      ]
     },
     "metadata": {},
     "output_type": "display_data"
    }
   ],
   "source": [
    "sns.boxplot(x=\"Sexo\", y=\"Muertes_por_causa\", data=df_clean)\n",
    "plt.title(\"Muertes por Sexo\")\n",
    "plt.show()"
   ]
  },
  {
   "cell_type": "code",
   "execution_count": 46,
   "id": "e952ef8b",
   "metadata": {},
   "outputs": [
    {
     "data": {
      "image/png": "[encoded data removed]",
      "text/plain": [
       "<Figure size 640x480 with 1 Axes>"
      ]
     },
     "metadata": {},
     "output_type": "display_data"
    }
   ],
   "source": [
    "sns.boxplot(x=\"CATEGORIA_ICA\", y=\"Muertes_por_causa\", data=df_clean)\n",
    "plt.xticks(rotation=45)\n",
    "plt.title(\"Muertes por categoría ICA\")\n",
    "plt.show()"
   ]
  },
  {
   "cell_type": "code",
   "execution_count": 47,
   "id": "edbcdd73",
   "metadata": {},
   "outputs": [
    {
     "data": {
      "image/png": "[encoded data removed]",
      "text/plain": [
       "<Figure size 640x480 with 1 Axes>"
      ]
     },
     "metadata": {},
     "output_type": "display_data"
    }
   ],
   "source": [
    "muertes_por_año = df_clean.groupby(\"year\")[\"Muertes_por_causa\"].sum().reset_index()\n",
    "\n",
    "sns.lineplot(data=muertes_por_año, x=\"year\", y=\"Muertes_por_causa\")\n",
    "plt.title(\"Evolución de muertes por año\")\n",
    "plt.show()"
   ]
  },
  {
   "cell_type": "code",
   "execution_count": 48,
   "id": "5930c647",
   "metadata": {},
   "outputs": [
    {
     "data": {
      "text/plain": [
       "np.int64(57024)"
      ]
     },
     "execution_count": 48,
     "metadata": {},
     "output_type": "execute_result"
    }
   ],
   "source": [
    "df[\"Muertes_por_causa\"].isnull().sum()"
   ]
  },
  {
   "cell_type": "code",
   "execution_count": 49,
   "id": "6e920647",
   "metadata": {},
   "outputs": [
    {
     "data": {
      "text/plain": [
       "np.float64(23.076923076923077)"
      ]
     },
     "execution_count": 49,
     "metadata": {},
     "output_type": "execute_result"
    }
   ],
   "source": [
    "df[\"Muertes_por_causa\"].isnull().mean() * 100"
   ]
  },
  {
   "cell_type": "code",
   "execution_count": 50,
   "id": "c346acb9",
   "metadata": {},
   "outputs": [
    {
     "name": "stdout",
     "output_type": "stream",
     "text": [
      "                      Causa de muerte     Sexo  Provincias  Periodo  mes  \\\n",
      "264  001-102  I-XXII.Todas las causas  Hombres  04 Almería     2023    1   \n",
      "265  001-102  I-XXII.Todas las causas  Hombres  04 Almería     2023    2   \n",
      "266  001-102  I-XXII.Todas las causas  Hombres  04 Almería     2023    3   \n",
      "267  001-102  I-XXII.Todas las causas  Hombres  04 Almería     2023    4   \n",
      "268  001-102  I-XXII.Todas las causas  Hombres  04 Almería     2023    5   \n",
      "\n",
      "     year  Muertes_por_causa  PROVINCIA  codigo_provincia  LATITUD_G  \\\n",
      "264  2023                NaN          4                 4  36.987776   \n",
      "265  2023                NaN          4                 4  36.987776   \n",
      "266  2023                NaN          4                 4  36.987776   \n",
      "267  2023                NaN          4                 4  36.987776   \n",
      "268  2023                NaN          4                 4  36.987776   \n",
      "\n",
      "     LONGITUD_G  ALTITUD TIPO_AREA  VALOR_ICA CATEGORIA_ICA  \n",
      "264   -2.154215     96.0    URBANA  14.291510         Buena  \n",
      "265   -2.154215     96.0    URBANA  14.774593         Buena  \n",
      "266   -2.154215     96.0    URBANA  14.531707         Buena  \n",
      "267   -2.154215     96.0    URBANA  15.228872         Buena  \n",
      "268   -2.154215     96.0    URBANA  11.412204         Buena  \n"
     ]
    }
   ],
   "source": [
    "df_nulos = df[df[\"Muertes_por_causa\"].isnull()]\n",
    "print(df_nulos.head())"
   ]
  },
  {
   "cell_type": "code",
   "execution_count": 51,
   "id": "300aa07d",
   "metadata": {},
   "outputs": [],
   "source": [
    "# Filtrar para eliminar filas con Muertes_por_causa nulos y year == 2023\n",
    "df = df[~((df[\"Muertes_por_causa\"].isnull()) & (df[\"year\"] == 2023))]"
   ]
  },
  {
   "cell_type": "code",
   "execution_count": 52,
   "id": "a8811855",
   "metadata": {},
   "outputs": [
    {
     "name": "stdout",
     "output_type": "stream",
     "text": [
      "Causa de muerte          0\n",
      "Sexo                     0\n",
      "Provincias               0\n",
      "Periodo                  0\n",
      "mes                      0\n",
      "year                     0\n",
      "Muertes_por_causa    51840\n",
      "PROVINCIA                0\n",
      "codigo_provincia         0\n",
      "LATITUD_G                0\n",
      "LONGITUD_G               0\n",
      "ALTITUD                  0\n",
      "TIPO_AREA                0\n",
      "VALOR_ICA             7092\n",
      "CATEGORIA_ICA         7092\n",
      "dtype: int64\n"
     ]
    }
   ],
   "source": [
    "print(df.isnull().sum())"
   ]
  },
  {
   "cell_type": "code",
   "execution_count": 53,
   "id": "622c57b2",
   "metadata": {},
   "outputs": [],
   "source": [
    "df = df[df[\"year\"] != 2023]"
   ]
  },
  {
   "cell_type": "code",
   "execution_count": 54,
   "id": "83e1095b",
   "metadata": {},
   "outputs": [
    {
     "name": "stdout",
     "output_type": "stream",
     "text": [
      "Causa de muerte          0\n",
      "Sexo                     0\n",
      "Provincias               0\n",
      "Periodo                  0\n",
      "mes                      0\n",
      "year                     0\n",
      "Muertes_por_causa    51840\n",
      "PROVINCIA                0\n",
      "codigo_provincia         0\n",
      "LATITUD_G                0\n",
      "LONGITUD_G               0\n",
      "ALTITUD                  0\n",
      "TIPO_AREA                0\n",
      "VALOR_ICA             7092\n",
      "CATEGORIA_ICA         7092\n",
      "dtype: int64\n"
     ]
    }
   ],
   "source": [
    "print(df.isnull().sum())"
   ]
  },
  {
   "cell_type": "code",
   "execution_count": 60,
   "id": "2c6fb7b4",
   "metadata": {},
   "outputs": [
    {
     "name": "stdout",
     "output_type": "stream",
     "text": [
      "[ 2  3  4  1 33  5  6  7  8 48  9 10 11 39 12 13 14 15 16 20 17 18 19 21\n",
      " 22 23 24 25 27 28 29 30 31 32 34 35 36 26 37 38 40 41 42 43 44 45 46 47\n",
      " 49 50 51 52]\n",
      "[ 2  3  4  1 33  5  6  7  8 48  9 10 11 39 12 13 14 15 16 20 17 18 19 21\n",
      " 22 23 24 25 27 28 29 30 31 32 34 35 36 26 37 38 40 41 42 43 44 45 46 47\n",
      " 49 50 51 52]\n"
     ]
    }
   ],
   "source": [
    "print(df[\"codigo_provincia\"].unique())\n",
    "print(df[\"PROVINCIA\"].unique())"
   ]
  },
  {
   "cell_type": "code",
   "execution_count": 59,
   "id": "6372ef5a",
   "metadata": {},
   "outputs": [
    {
     "name": "stdout",
     "output_type": "stream",
     "text": [
      "Empty DataFrame\n",
      "Columns: [PROVINCIA, codigo_provincia]\n",
      "Index: []\n"
     ]
    }
   ],
   "source": [
    "# Mostrar filas donde Codigo_INE es NaN o None\n",
    "faltantes = df[df[\"codigo_provincia\"].isnull() | df[\"codigo_provincia\"].eq(None)]\n",
    "print(faltantes[[\"PROVINCIA\", \"codigo_provincia\"]].drop_duplicates())"
   ]
  },
  {
   "cell_type": "markdown",
   "id": "362c9386",
   "metadata": {},
   "source": [
    "Buscamos los nulos de muertes por causa"
   ]
  },
  {
   "cell_type": "code",
   "execution_count": 61,
   "id": "1d534668",
   "metadata": {},
   "outputs": [
    {
     "name": "stdout",
     "output_type": "stream",
     "text": [
      "     year  mes  nulos\n",
      "0    2013    1    432\n",
      "1    2013    2    432\n",
      "2    2013    3    432\n",
      "3    2013    4    432\n",
      "4    2013    5    432\n",
      "..    ...  ...    ...\n",
      "115  2022    8    432\n",
      "116  2022    9    432\n",
      "117  2022   10    432\n",
      "118  2022   11    432\n",
      "119  2022   12    432\n",
      "\n",
      "[120 rows x 3 columns]\n"
     ]
    }
   ],
   "source": [
    "nulos_por_fecha = df[df[\"Muertes_por_causa\"].isnull()] \\\n",
    "    .groupby([\"year\", \"mes\"]).size().reset_index(name=\"nulos\")\n",
    "print(nulos_por_fecha)"
   ]
  },
  {
   "cell_type": "code",
   "execution_count": 62,
   "id": "d56addbd",
   "metadata": {},
   "outputs": [
    {
     "name": "stdout",
     "output_type": "stream",
     "text": [
      "               Provincias  nulos\n",
      "0          01 Araba/Álava   4320\n",
      "1              04 Almería   4320\n",
      "2                05 Ávila   4320\n",
      "3              10 Cáceres   4320\n",
      "4                11 Cádiz   4320\n",
      "5   12 Castellón/Castelló   4320\n",
      "6              14 Córdoba   4320\n",
      "7            15 Coruña, A   4320\n",
      "8                 23 Jaén   4320\n",
      "9                 24 León   4320\n",
      "10              29 Málaga   4320\n",
      "11   46 Valencia/València   4320\n",
      "      Sexo  nulos\n",
      "0  Hombres  25920\n",
      "1  Mujeres  25920\n"
     ]
    }
   ],
   "source": [
    "nulos_por_provincia = df[df[\"Muertes_por_causa\"].isnull()] \\\n",
    "    .groupby(\"Provincias\").size().reset_index(name=\"nulos\").sort_values(\"nulos\", ascending=False)\n",
    "print(nulos_por_provincia)\n",
    "\n",
    "nulos_por_sexo = df[df[\"Muertes_por_causa\"].isnull()] \\\n",
    "    .groupby(\"Sexo\").size().reset_index(name=\"nulos\")\n",
    "print(nulos_por_sexo)"
   ]
  },
  {
   "cell_type": "code",
   "execution_count": 63,
   "id": "d3718be5",
   "metadata": {},
   "outputs": [
    {
     "name": "stdout",
     "output_type": "stream",
     "text": [
      "                      Causa de muerte     Sexo  Provincias  Periodo  mes  \\\n",
      "276  001-102  I-XXII.Todas las causas  Hombres  04 Almería     2022    1   \n",
      "277  001-102  I-XXII.Todas las causas  Hombres  04 Almería     2022    2   \n",
      "278  001-102  I-XXII.Todas las causas  Hombres  04 Almería     2022    3   \n",
      "279  001-102  I-XXII.Todas las causas  Hombres  04 Almería     2022    4   \n",
      "280  001-102  I-XXII.Todas las causas  Hombres  04 Almería     2022    5   \n",
      "281  001-102  I-XXII.Todas las causas  Hombres  04 Almería     2022    6   \n",
      "282  001-102  I-XXII.Todas las causas  Hombres  04 Almería     2022    7   \n",
      "283  001-102  I-XXII.Todas las causas  Hombres  04 Almería     2022    8   \n",
      "284  001-102  I-XXII.Todas las causas  Hombres  04 Almería     2022    9   \n",
      "285  001-102  I-XXII.Todas las causas  Hombres  04 Almería     2022   10   \n",
      "\n",
      "     year  Muertes_por_causa  PROVINCIA  codigo_provincia  LATITUD_G  \\\n",
      "276  2022                NaN          4                 4  36.987776   \n",
      "277  2022                NaN          4                 4  36.987776   \n",
      "278  2022                NaN          4                 4  36.987776   \n",
      "279  2022                NaN          4                 4  36.987776   \n",
      "280  2022                NaN          4                 4  36.987776   \n",
      "281  2022                NaN          4                 4  36.987776   \n",
      "282  2022                NaN          4                 4  36.987776   \n",
      "283  2022                NaN          4                 4  36.987776   \n",
      "284  2022                NaN          4                 4  36.987776   \n",
      "285  2022                NaN          4                 4  36.987776   \n",
      "\n",
      "     LONGITUD_G  ALTITUD TIPO_AREA  VALOR_ICA CATEGORIA_ICA  \n",
      "276   -2.154215     96.0    URBANA  12.950160         Buena  \n",
      "277   -2.154215     96.0    URBANA  15.700888         Buena  \n",
      "278   -2.154215     96.0    URBANA  39.910848         Buena  \n",
      "279   -2.154215     96.0    URBANA  11.369724         Buena  \n",
      "280   -2.154215     96.0    URBANA  14.677625         Buena  \n",
      "281   -2.154215     96.0    URBANA  15.146211         Buena  \n",
      "282   -2.154215     96.0    URBANA  13.578741         Buena  \n",
      "283   -2.154215     96.0    URBANA  15.157633         Buena  \n",
      "284   -2.154215     96.0    URBANA  15.359092         Buena  \n",
      "285   -2.154215     96.0    URBANA  20.785221         Buena  \n"
     ]
    }
   ],
   "source": [
    "print(df[df[\"Muertes_por_causa\"].isnull()].head(10))"
   ]
  },
  {
   "cell_type": "markdown",
   "id": "0124365b",
   "metadata": {},
   "source": []
  },
  {
   "cell_type": "code",
   "execution_count": 64,
   "id": "c8c6e17f",
   "metadata": {},
   "outputs": [],
   "source": [
    "# Si decides imputar con 0:\n",
    "df[\"Muertes_por_causa\"] = df[\"Muertes_por_causa\"].fillna(0)"
   ]
  }
 ],
 "metadata": {
  "kernelspec": {
   "display_name": "Python 3",
   "language": "python",
   "name": "python3"
  },
  "language_info": {
   "codemirror_mode": {
    "name": "ipython",
    "version": 3
   },
   "file_extension": ".py",
   "mimetype": "text/x-python",
   "name": "python",
   "nbconvert_exporter": "python",
   "pygments_lexer": "ipython3",
   "version": "3.12.1"
  }
 },
 "nbformat": 4,
 "nbformat_minor": 5
}
