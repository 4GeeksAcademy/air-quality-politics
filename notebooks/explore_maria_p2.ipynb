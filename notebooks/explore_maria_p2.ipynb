{
 "cells": [
  {
   "cell_type": "code",
   "execution_count": 72,
   "id": "afdad7ff",
   "metadata": {},
   "outputs": [
    {
     "data": {
      "text/html": [
       "<div>\n",
       "<style scoped>\n",
       "    .dataframe tbody tr th:only-of-type {\n",
       "        vertical-align: middle;\n",
       "    }\n",
       "\n",
       "    .dataframe tbody tr th {\n",
       "        vertical-align: top;\n",
       "    }\n",
       "\n",
       "    .dataframe thead th {\n",
       "        text-align: right;\n",
       "    }\n",
       "</style>\n",
       "<table border=\"1\" class=\"dataframe\">\n",
       "  <thead>\n",
       "    <tr style=\"text-align: right;\">\n",
       "      <th></th>\n",
       "      <th>Causa de muerte</th>\n",
       "      <th>Sexo</th>\n",
       "      <th>Provincias</th>\n",
       "      <th>mes</th>\n",
       "      <th>year</th>\n",
       "      <th>Muertes_por_causa</th>\n",
       "      <th>codigo_provincia</th>\n",
       "      <th>LATITUD_G</th>\n",
       "      <th>LONGITUD_G</th>\n",
       "      <th>ALTITUD</th>\n",
       "      <th>TIPO_AREA</th>\n",
       "      <th>VALOR_ICA</th>\n",
       "      <th>CATEGORIA_ICA</th>\n",
       "      <th>Partido</th>\n",
       "      <th>Poblacion</th>\n",
       "    </tr>\n",
       "  </thead>\n",
       "  <tbody>\n",
       "    <tr>\n",
       "      <th>0</th>\n",
       "      <td>001-102  I-XXII.Todas las causas</td>\n",
       "      <td>Hombres</td>\n",
       "      <td>02 Albacete</td>\n",
       "      <td>1</td>\n",
       "      <td>2022</td>\n",
       "      <td>209.072686</td>\n",
       "      <td>2</td>\n",
       "      <td>38.9808</td>\n",
       "      <td>-1.8452</td>\n",
       "      <td>691.0</td>\n",
       "      <td>SUBURBANA</td>\n",
       "      <td>22.778847</td>\n",
       "      <td>Buena</td>\n",
       "      <td>PP</td>\n",
       "      <td>199208.0</td>\n",
       "    </tr>\n",
       "    <tr>\n",
       "      <th>1</th>\n",
       "      <td>001-102  I-XXII.Todas las causas</td>\n",
       "      <td>Hombres</td>\n",
       "      <td>02 Albacete</td>\n",
       "      <td>2</td>\n",
       "      <td>2022</td>\n",
       "      <td>150.678320</td>\n",
       "      <td>2</td>\n",
       "      <td>38.9808</td>\n",
       "      <td>-1.8452</td>\n",
       "      <td>691.0</td>\n",
       "      <td>SUBURBANA</td>\n",
       "      <td>20.110090</td>\n",
       "      <td>Razonablemente buena</td>\n",
       "      <td>PP</td>\n",
       "      <td>11435.0</td>\n",
       "    </tr>\n",
       "    <tr>\n",
       "      <th>2</th>\n",
       "      <td>001-102  I-XXII.Todas las causas</td>\n",
       "      <td>Hombres</td>\n",
       "      <td>02 Albacete</td>\n",
       "      <td>3</td>\n",
       "      <td>2022</td>\n",
       "      <td>173.097586</td>\n",
       "      <td>2</td>\n",
       "      <td>38.9808</td>\n",
       "      <td>-1.8452</td>\n",
       "      <td>691.0</td>\n",
       "      <td>SUBURBANA</td>\n",
       "      <td>26.769706</td>\n",
       "      <td>Buena</td>\n",
       "      <td>PP</td>\n",
       "      <td>10762.0</td>\n",
       "    </tr>\n",
       "    <tr>\n",
       "      <th>3</th>\n",
       "      <td>001-102  I-XXII.Todas las causas</td>\n",
       "      <td>Hombres</td>\n",
       "      <td>02 Albacete</td>\n",
       "      <td>4</td>\n",
       "      <td>2022</td>\n",
       "      <td>179.875503</td>\n",
       "      <td>2</td>\n",
       "      <td>38.9808</td>\n",
       "      <td>-1.8452</td>\n",
       "      <td>691.0</td>\n",
       "      <td>SUBURBANA</td>\n",
       "      <td>8.073927</td>\n",
       "      <td>Buena</td>\n",
       "      <td>PP</td>\n",
       "      <td>10089.0</td>\n",
       "    </tr>\n",
       "    <tr>\n",
       "      <th>4</th>\n",
       "      <td>001-102  I-XXII.Todas las causas</td>\n",
       "      <td>Hombres</td>\n",
       "      <td>02 Albacete</td>\n",
       "      <td>5</td>\n",
       "      <td>2022</td>\n",
       "      <td>179.354125</td>\n",
       "      <td>2</td>\n",
       "      <td>38.9808</td>\n",
       "      <td>-1.8452</td>\n",
       "      <td>691.0</td>\n",
       "      <td>SUBURBANA</td>\n",
       "      <td>13.674748</td>\n",
       "      <td>Buena</td>\n",
       "      <td>PP</td>\n",
       "      <td>9415.0</td>\n",
       "    </tr>\n",
       "  </tbody>\n",
       "</table>\n",
       "</div>"
      ],
      "text/plain": [
       "                    Causa de muerte     Sexo   Provincias  mes  year  \\\n",
       "0  001-102  I-XXII.Todas las causas  Hombres  02 Albacete    1  2022   \n",
       "1  001-102  I-XXII.Todas las causas  Hombres  02 Albacete    2  2022   \n",
       "2  001-102  I-XXII.Todas las causas  Hombres  02 Albacete    3  2022   \n",
       "3  001-102  I-XXII.Todas las causas  Hombres  02 Albacete    4  2022   \n",
       "4  001-102  I-XXII.Todas las causas  Hombres  02 Albacete    5  2022   \n",
       "\n",
       "   Muertes_por_causa  codigo_provincia  LATITUD_G  LONGITUD_G  ALTITUD  \\\n",
       "0         209.072686                 2    38.9808     -1.8452    691.0   \n",
       "1         150.678320                 2    38.9808     -1.8452    691.0   \n",
       "2         173.097586                 2    38.9808     -1.8452    691.0   \n",
       "3         179.875503                 2    38.9808     -1.8452    691.0   \n",
       "4         179.354125                 2    38.9808     -1.8452    691.0   \n",
       "\n",
       "   TIPO_AREA  VALOR_ICA         CATEGORIA_ICA Partido  Poblacion  \n",
       "0  SUBURBANA  22.778847                 Buena      PP   199208.0  \n",
       "1  SUBURBANA  20.110090  Razonablemente buena      PP    11435.0  \n",
       "2  SUBURBANA  26.769706                 Buena      PP    10762.0  \n",
       "3  SUBURBANA   8.073927                 Buena      PP    10089.0  \n",
       "4  SUBURBANA  13.674748                 Buena      PP     9415.0  "
      ]
     },
     "execution_count": 72,
     "metadata": {},
     "output_type": "execute_result"
    }
   ],
   "source": [
    "import pandas as pd\n",
    "df = pd.read_csv('/workspaces/air-quality-politics/data/raw/df_full_completo_filtrado.csv', delimiter=';', index_col=False)\n",
    "df.head()"
   ]
  },
  {
   "cell_type": "code",
   "execution_count": 73,
   "id": "207aaacc",
   "metadata": {},
   "outputs": [
    {
     "data": {
      "text/html": [
       "<div>\n",
       "<style scoped>\n",
       "    .dataframe tbody tr th:only-of-type {\n",
       "        vertical-align: middle;\n",
       "    }\n",
       "\n",
       "    .dataframe tbody tr th {\n",
       "        vertical-align: top;\n",
       "    }\n",
       "\n",
       "    .dataframe thead th {\n",
       "        text-align: right;\n",
       "    }\n",
       "</style>\n",
       "<table border=\"1\" class=\"dataframe\">\n",
       "  <thead>\n",
       "    <tr style=\"text-align: right;\">\n",
       "      <th></th>\n",
       "      <th>Causa de muerte</th>\n",
       "      <th>Sexo</th>\n",
       "      <th>Provincias</th>\n",
       "      <th>mes</th>\n",
       "      <th>year</th>\n",
       "      <th>Muertes_por_causa</th>\n",
       "      <th>codigo_provincia</th>\n",
       "      <th>LATITUD_G</th>\n",
       "      <th>LONGITUD_G</th>\n",
       "      <th>ALTITUD</th>\n",
       "      <th>TIPO_AREA</th>\n",
       "      <th>VALOR_ICA</th>\n",
       "      <th>CATEGORIA_ICA</th>\n",
       "      <th>Partido</th>\n",
       "      <th>Poblacion</th>\n",
       "    </tr>\n",
       "  </thead>\n",
       "  <tbody>\n",
       "    <tr>\n",
       "      <th>0</th>\n",
       "      <td>001-102  I-XXII.Todas las causas</td>\n",
       "      <td>Hombres</td>\n",
       "      <td>02 Albacete</td>\n",
       "      <td>1</td>\n",
       "      <td>2022</td>\n",
       "      <td>209.072686</td>\n",
       "      <td>2</td>\n",
       "      <td>38.9808</td>\n",
       "      <td>-1.8452</td>\n",
       "      <td>691.0</td>\n",
       "      <td>SUBURBANA</td>\n",
       "      <td>22.778847</td>\n",
       "      <td>Buena</td>\n",
       "      <td>PP</td>\n",
       "      <td>199208.0</td>\n",
       "    </tr>\n",
       "    <tr>\n",
       "      <th>1</th>\n",
       "      <td>001-102  I-XXII.Todas las causas</td>\n",
       "      <td>Hombres</td>\n",
       "      <td>02 Albacete</td>\n",
       "      <td>2</td>\n",
       "      <td>2022</td>\n",
       "      <td>150.678320</td>\n",
       "      <td>2</td>\n",
       "      <td>38.9808</td>\n",
       "      <td>-1.8452</td>\n",
       "      <td>691.0</td>\n",
       "      <td>SUBURBANA</td>\n",
       "      <td>20.110090</td>\n",
       "      <td>Razonablemente buena</td>\n",
       "      <td>PP</td>\n",
       "      <td>11435.0</td>\n",
       "    </tr>\n",
       "    <tr>\n",
       "      <th>2</th>\n",
       "      <td>001-102  I-XXII.Todas las causas</td>\n",
       "      <td>Hombres</td>\n",
       "      <td>02 Albacete</td>\n",
       "      <td>3</td>\n",
       "      <td>2022</td>\n",
       "      <td>173.097586</td>\n",
       "      <td>2</td>\n",
       "      <td>38.9808</td>\n",
       "      <td>-1.8452</td>\n",
       "      <td>691.0</td>\n",
       "      <td>SUBURBANA</td>\n",
       "      <td>26.769706</td>\n",
       "      <td>Buena</td>\n",
       "      <td>PP</td>\n",
       "      <td>10762.0</td>\n",
       "    </tr>\n",
       "    <tr>\n",
       "      <th>3</th>\n",
       "      <td>001-102  I-XXII.Todas las causas</td>\n",
       "      <td>Hombres</td>\n",
       "      <td>02 Albacete</td>\n",
       "      <td>4</td>\n",
       "      <td>2022</td>\n",
       "      <td>179.875503</td>\n",
       "      <td>2</td>\n",
       "      <td>38.9808</td>\n",
       "      <td>-1.8452</td>\n",
       "      <td>691.0</td>\n",
       "      <td>SUBURBANA</td>\n",
       "      <td>8.073927</td>\n",
       "      <td>Buena</td>\n",
       "      <td>PP</td>\n",
       "      <td>10089.0</td>\n",
       "    </tr>\n",
       "    <tr>\n",
       "      <th>4</th>\n",
       "      <td>001-102  I-XXII.Todas las causas</td>\n",
       "      <td>Hombres</td>\n",
       "      <td>02 Albacete</td>\n",
       "      <td>5</td>\n",
       "      <td>2022</td>\n",
       "      <td>179.354125</td>\n",
       "      <td>2</td>\n",
       "      <td>38.9808</td>\n",
       "      <td>-1.8452</td>\n",
       "      <td>691.0</td>\n",
       "      <td>SUBURBANA</td>\n",
       "      <td>13.674748</td>\n",
       "      <td>Buena</td>\n",
       "      <td>PP</td>\n",
       "      <td>9415.0</td>\n",
       "    </tr>\n",
       "  </tbody>\n",
       "</table>\n",
       "</div>"
      ],
      "text/plain": [
       "                    Causa de muerte     Sexo   Provincias  mes  year  \\\n",
       "0  001-102  I-XXII.Todas las causas  Hombres  02 Albacete    1  2022   \n",
       "1  001-102  I-XXII.Todas las causas  Hombres  02 Albacete    2  2022   \n",
       "2  001-102  I-XXII.Todas las causas  Hombres  02 Albacete    3  2022   \n",
       "3  001-102  I-XXII.Todas las causas  Hombres  02 Albacete    4  2022   \n",
       "4  001-102  I-XXII.Todas las causas  Hombres  02 Albacete    5  2022   \n",
       "\n",
       "   Muertes_por_causa  codigo_provincia  LATITUD_G  LONGITUD_G  ALTITUD  \\\n",
       "0         209.072686                 2    38.9808     -1.8452    691.0   \n",
       "1         150.678320                 2    38.9808     -1.8452    691.0   \n",
       "2         173.097586                 2    38.9808     -1.8452    691.0   \n",
       "3         179.875503                 2    38.9808     -1.8452    691.0   \n",
       "4         179.354125                 2    38.9808     -1.8452    691.0   \n",
       "\n",
       "   TIPO_AREA  VALOR_ICA         CATEGORIA_ICA Partido  Poblacion  \n",
       "0  SUBURBANA  22.778847                 Buena      PP   199208.0  \n",
       "1  SUBURBANA  20.110090  Razonablemente buena      PP    11435.0  \n",
       "2  SUBURBANA  26.769706                 Buena      PP    10762.0  \n",
       "3  SUBURBANA   8.073927                 Buena      PP    10089.0  \n",
       "4  SUBURBANA  13.674748                 Buena      PP     9415.0  "
      ]
     },
     "execution_count": 73,
     "metadata": {},
     "output_type": "execute_result"
    }
   ],
   "source": [
    "df.head()"
   ]
  },
  {
   "cell_type": "markdown",
   "id": "a57853e4",
   "metadata": {},
   "source": [
    "Análisis Exploratorio de Datos (EDA) Avanzado\n",
    "📌 1. Estructura de los Datos\n",
    "Registros: 142,164 filas × 15 columnas.\n",
    "\n",
    "Variables clave:\n",
    "\n",
    "Target: Muertes_por_causa (muertes respiratorias y otras causas).\n",
    "\n",
    "Predictores:\n",
    "\n",
    "Calidad del aire: VALOR_ICA (índice numérico), CATEGORIA_ICA (categoría).\n",
    "\n",
    "Geográficos: Provincias, LATITUD_G, LONGITUD_G, ALTITUD.\n",
    "\n",
    "Políticos: Partido (PP, PSOE, etc.).\n",
    "\n",
    "Demográficos: Sexo, Poblacion."
   ]
  },
  {
   "cell_type": "code",
   "execution_count": 74,
   "id": "1269d3ba",
   "metadata": {},
   "outputs": [
    {
     "data": {
      "text/html": [
       "<div>\n",
       "<style scoped>\n",
       "    .dataframe tbody tr th:only-of-type {\n",
       "        vertical-align: middle;\n",
       "    }\n",
       "\n",
       "    .dataframe tbody tr th {\n",
       "        vertical-align: top;\n",
       "    }\n",
       "\n",
       "    .dataframe thead th {\n",
       "        text-align: right;\n",
       "    }\n",
       "</style>\n",
       "<table border=\"1\" class=\"dataframe\">\n",
       "  <thead>\n",
       "    <tr style=\"text-align: right;\">\n",
       "      <th></th>\n",
       "      <th>mes</th>\n",
       "      <th>year</th>\n",
       "      <th>Muertes_por_causa</th>\n",
       "      <th>codigo_provincia</th>\n",
       "      <th>LATITUD_G</th>\n",
       "      <th>LONGITUD_G</th>\n",
       "      <th>ALTITUD</th>\n",
       "      <th>VALOR_ICA</th>\n",
       "      <th>Poblacion</th>\n",
       "    </tr>\n",
       "  </thead>\n",
       "  <tbody>\n",
       "    <tr>\n",
       "      <th>count</th>\n",
       "      <td>142164.00000</td>\n",
       "      <td>142164.000000</td>\n",
       "      <td>142164.000000</td>\n",
       "      <td>142164.000000</td>\n",
       "      <td>142164.000000</td>\n",
       "      <td>142164.000000</td>\n",
       "      <td>142164.000000</td>\n",
       "      <td>142164.000000</td>\n",
       "      <td>1.421640e+05</td>\n",
       "    </tr>\n",
       "    <tr>\n",
       "      <th>mean</th>\n",
       "      <td>6.34667</td>\n",
       "      <td>2017.340593</td>\n",
       "      <td>129.525323</td>\n",
       "      <td>27.687263</td>\n",
       "      <td>40.521154</td>\n",
       "      <td>-3.258401</td>\n",
       "      <td>464.106563</td>\n",
       "      <td>15.904697</td>\n",
       "      <td>1.031810e+05</td>\n",
       "    </tr>\n",
       "    <tr>\n",
       "      <th>std</th>\n",
       "      <td>3.43351</td>\n",
       "      <td>2.777251</td>\n",
       "      <td>208.258148</td>\n",
       "      <td>14.363216</td>\n",
       "      <td>2.777739</td>\n",
       "      <td>3.718046</td>\n",
       "      <td>300.827704</td>\n",
       "      <td>6.856338</td>\n",
       "      <td>3.367039e+05</td>\n",
       "    </tr>\n",
       "    <tr>\n",
       "      <th>min</th>\n",
       "      <td>1.00000</td>\n",
       "      <td>2013.000000</td>\n",
       "      <td>0.000000</td>\n",
       "      <td>2.000000</td>\n",
       "      <td>28.337737</td>\n",
       "      <td>-16.709137</td>\n",
       "      <td>1.000000</td>\n",
       "      <td>2.171034</td>\n",
       "      <td>1.932000e+03</td>\n",
       "    </tr>\n",
       "    <tr>\n",
       "      <th>25%</th>\n",
       "      <td>3.00000</td>\n",
       "      <td>2015.000000</td>\n",
       "      <td>9.608028</td>\n",
       "      <td>17.000000</td>\n",
       "      <td>39.581074</td>\n",
       "      <td>-4.735354</td>\n",
       "      <td>157.363636</td>\n",
       "      <td>11.138660</td>\n",
       "      <td>9.743000e+03</td>\n",
       "    </tr>\n",
       "    <tr>\n",
       "      <th>50%</th>\n",
       "      <td>6.00000</td>\n",
       "      <td>2017.000000</td>\n",
       "      <td>54.462992</td>\n",
       "      <td>28.000000</td>\n",
       "      <td>41.374305</td>\n",
       "      <td>-3.194767</td>\n",
       "      <td>421.818182</td>\n",
       "      <td>14.539583</td>\n",
       "      <td>1.802250e+04</td>\n",
       "    </tr>\n",
       "    <tr>\n",
       "      <th>75%</th>\n",
       "      <td>9.00000</td>\n",
       "      <td>2020.000000</td>\n",
       "      <td>156.703645</td>\n",
       "      <td>39.000000</td>\n",
       "      <td>42.158433</td>\n",
       "      <td>-0.863265</td>\n",
       "      <td>691.000000</td>\n",
       "      <td>19.323746</td>\n",
       "      <td>4.083400e+04</td>\n",
       "    </tr>\n",
       "    <tr>\n",
       "      <th>max</th>\n",
       "      <td>12.00000</td>\n",
       "      <td>2022.000000</td>\n",
       "      <td>6345.428880</td>\n",
       "      <td>51.000000</td>\n",
       "      <td>43.330504</td>\n",
       "      <td>2.820357</td>\n",
       "      <td>1049.000000</td>\n",
       "      <td>53.608333</td>\n",
       "      <td>3.699640e+06</td>\n",
       "    </tr>\n",
       "  </tbody>\n",
       "</table>\n",
       "</div>"
      ],
      "text/plain": [
       "                mes           year  Muertes_por_causa  codigo_provincia  \\\n",
       "count  142164.00000  142164.000000      142164.000000     142164.000000   \n",
       "mean        6.34667    2017.340593         129.525323         27.687263   \n",
       "std         3.43351       2.777251         208.258148         14.363216   \n",
       "min         1.00000    2013.000000           0.000000          2.000000   \n",
       "25%         3.00000    2015.000000           9.608028         17.000000   \n",
       "50%         6.00000    2017.000000          54.462992         28.000000   \n",
       "75%         9.00000    2020.000000         156.703645         39.000000   \n",
       "max        12.00000    2022.000000        6345.428880         51.000000   \n",
       "\n",
       "           LATITUD_G     LONGITUD_G        ALTITUD      VALOR_ICA  \\\n",
       "count  142164.000000  142164.000000  142164.000000  142164.000000   \n",
       "mean       40.521154      -3.258401     464.106563      15.904697   \n",
       "std         2.777739       3.718046     300.827704       6.856338   \n",
       "min        28.337737     -16.709137       1.000000       2.171034   \n",
       "25%        39.581074      -4.735354     157.363636      11.138660   \n",
       "50%        41.374305      -3.194767     421.818182      14.539583   \n",
       "75%        42.158433      -0.863265     691.000000      19.323746   \n",
       "max        43.330504       2.820357    1049.000000      53.608333   \n",
       "\n",
       "          Poblacion  \n",
       "count  1.421640e+05  \n",
       "mean   1.031810e+05  \n",
       "std    3.367039e+05  \n",
       "min    1.932000e+03  \n",
       "25%    9.743000e+03  \n",
       "50%    1.802250e+04  \n",
       "75%    4.083400e+04  \n",
       "max    3.699640e+06  "
      ]
     },
     "execution_count": 74,
     "metadata": {},
     "output_type": "execute_result"
    }
   ],
   "source": [
    "df.describe()"
   ]
  },
  {
   "cell_type": "code",
   "execution_count": 75,
   "id": "2786ba56",
   "metadata": {},
   "outputs": [],
   "source": [
    "# Filtrar provincias con población mínima razonable (>1,000 habitantes)\n",
    "df = df[df['Poblacion'] >= 1000]"
   ]
  },
  {
   "cell_type": "markdown",
   "id": "82aef382",
   "metadata": {},
   "source": [
    "Muertes_por_causa:\n",
    "\n",
    "Media: 129.52, Máx: 6,345.43 (distribución altamente sesgada)"
   ]
  },
  {
   "cell_type": "code",
   "execution_count": 76,
   "id": "20d2a310",
   "metadata": {},
   "outputs": [],
   "source": [
    "import numpy as np\n",
    "df['Muertes_log'] = np.log1p(df['Muertes_por_causa'])"
   ]
  },
  {
   "cell_type": "markdown",
   "id": "3b9aa1b0",
   "metadata": {},
   "source": [
    "🔹 Frecuencia de valores en 'CATEGORIA_ICA': clases desbalanceadas\n",
    "CATEGORIA_ICA\n",
    "Buena                   136368\n",
    "Razonablemente buena      5652\n",
    "Desfavorable               144"
   ]
  },
  {
   "cell_type": "code",
   "execution_count": 77,
   "id": "964db9ea",
   "metadata": {},
   "outputs": [],
   "source": [
    "bins = [0, 20, 30, np.inf]  \n",
    "labels = ['Riesgo_ICA_Bajo', 'Riesgo_ICA_Medio', 'Riesgo_ICA_Alto']  # Más claro\n",
    "df['Riesgo_ICA'] = pd.cut(df['VALOR_ICA'], bins=bins, labels=labels)  "
   ]
  },
  {
   "cell_type": "code",
   "execution_count": 78,
   "id": "bcea44e2",
   "metadata": {},
   "outputs": [
    {
     "name": "stdout",
     "output_type": "stream",
     "text": [
      "   VALOR_ICA        Riesgo_ICA\n",
      "0  22.778847  Riesgo_ICA_Medio\n",
      "1  20.110090  Riesgo_ICA_Medio\n",
      "2  26.769706  Riesgo_ICA_Medio\n",
      "3   8.073927   Riesgo_ICA_Bajo\n",
      "4  13.674748   Riesgo_ICA_Bajo\n"
     ]
    }
   ],
   "source": [
    "print(df[['VALOR_ICA', 'Riesgo_ICA']].head())"
   ]
  },
  {
   "cell_type": "code",
   "execution_count": 79,
   "id": "eee47acd",
   "metadata": {},
   "outputs": [
    {
     "name": "stdout",
     "output_type": "stream",
     "text": [
      "    Provincias  Poblacion  Muertes_por_causa  Muertes_por_100k\n",
      "0  02 Albacete   199208.0         209.072686        104.951953\n",
      "1  02 Albacete    11435.0         150.678320       1317.694096\n",
      "2  02 Albacete    10762.0         173.097586       1608.414658\n",
      "3  02 Albacete    10089.0         179.875503       1782.887333\n",
      "4  02 Albacete     9415.0         179.354125       1904.982738\n"
     ]
    }
   ],
   "source": [
    "# Calcular muertes normalizadas (por 100k habitantes)\n",
    "df['Muertes_por_100k'] = (df['Muertes_por_causa'] / df['Poblacion']) * 100000\n",
    "\n",
    "# Verificar resultados\n",
    "print(df[['Provincias', 'Poblacion', 'Muertes_por_causa', 'Muertes_por_100k']].head())"
   ]
  },
  {
   "cell_type": "code",
   "execution_count": 80,
   "id": "b65bfb3c",
   "metadata": {},
   "outputs": [],
   "source": [
    "df.to_csv('df.csv', index=False)"
   ]
  },
  {
   "cell_type": "code",
   "execution_count": 81,
   "id": "5017f2f9",
   "metadata": {},
   "outputs": [
    {
     "name": "stdout",
     "output_type": "stream",
     "text": [
      "count    142164.000000\n",
      "mean        725.511419\n",
      "std        1516.196284\n",
      "min           0.000000\n",
      "25%          31.827746\n",
      "50%         228.259738\n",
      "75%         756.959793\n",
      "max       49240.285975\n",
      "Name: Muertes_por_100k, dtype: float64\n"
     ]
    }
   ],
   "source": [
    "print(df['Muertes_por_100k'].describe())"
   ]
  },
  {
   "cell_type": "code",
   "execution_count": 82,
   "id": "05c40ae7",
   "metadata": {},
   "outputs": [
    {
     "name": "stdout",
     "output_type": "stream",
     "text": [
      "              VALOR_ICA        Riesgo_ICA\n",
      "Provincias                               \n",
      "16 Cuenca     25.837284  Riesgo_ICA_Medio\n",
      "22 Huesca     13.156276   Riesgo_ICA_Bajo\n",
      "27 Lugo        9.677551   Riesgo_ICA_Bajo\n",
      "32 Ourense    13.151605   Riesgo_ICA_Bajo\n",
      "34 Palencia   10.987209   Riesgo_ICA_Bajo\n",
      "37 Salamanca  12.238347   Riesgo_ICA_Bajo\n",
      "42 Soria      14.391319   Riesgo_ICA_Bajo\n",
      "44 Teruel      9.309550   Riesgo_ICA_Bajo\n",
      "49 Zamora     10.952755   Riesgo_ICA_Bajo\n",
      "51 Ceuta      16.608958   Riesgo_ICA_Bajo\n"
     ]
    }
   ],
   "source": [
    "# Provincias con mayor media de Muertes_por_100k\n",
    "top_provincias = df.groupby('Provincias')['Muertes_por_100k'].mean().sort_values(ascending=False).head(10).index\n",
    "\n",
    "# Mostrar el valor medio de ICA y el valor más frecuente de Riesgo_ICA para esas provincias\n",
    "ica_riesgo = (\n",
    "    df[df['Provincias'].isin(top_provincias)]\n",
    "    .groupby('Provincias')\n",
    "    .agg({'VALOR_ICA': 'mean', 'Riesgo_ICA': lambda x: x.mode()[0] if not x.mode().empty else None})\n",
    ")\n",
    "\n",
    "print(ica_riesgo)"
   ]
  },
  {
   "cell_type": "code",
   "execution_count": 83,
   "id": "5d22394d",
   "metadata": {},
   "outputs": [
    {
     "data": {
      "text/plain": [
       "Provincias\n",
       "42 Soria        1646.800609\n",
       "44 Teruel       1589.699662\n",
       "51 Ceuta        1108.776817\n",
       "49 Zamora       1051.174426\n",
       "32 Ourense      1041.154725\n",
       "27 Lugo         1021.964069\n",
       "34 Palencia      957.526373\n",
       "16 Cuenca        907.100388\n",
       "22 Huesca        851.802435\n",
       "37 Salamanca     851.526785\n",
       "Name: Muertes_por_100k, dtype: float64"
      ]
     },
     "execution_count": 83,
     "metadata": {},
     "output_type": "execute_result"
    }
   ],
   "source": [
    "df.groupby('Provincias')['Muertes_por_100k'].mean().sort_values(ascending=False).head(10)"
   ]
  },
  {
   "cell_type": "code",
   "execution_count": 84,
   "id": "8a8c931e",
   "metadata": {},
   "outputs": [
    {
     "data": {
      "text/plain": [
       "Index(['Causa de muerte', 'Sexo', 'Provincias', 'mes', 'year',\n",
       "       'Muertes_por_causa', 'codigo_provincia', 'LATITUD_G', 'LONGITUD_G',\n",
       "       'ALTITUD', 'TIPO_AREA', 'VALOR_ICA', 'CATEGORIA_ICA', 'Partido',\n",
       "       'Poblacion', 'Muertes_log', 'Riesgo_ICA', 'Muertes_por_100k'],\n",
       "      dtype='object')"
      ]
     },
     "execution_count": 84,
     "metadata": {},
     "output_type": "execute_result"
    }
   ],
   "source": [
    "df.columns"
   ]
  },
  {
   "cell_type": "code",
   "execution_count": 85,
   "id": "bf7302a7",
   "metadata": {},
   "outputs": [],
   "source": [
    "# Opción A (Recomendada): Usar SOLO causas específicas (excluir 'Todas las causas')\n",
    "df = df[df['Causa de muerte'] != '001-102  I-XXII.Todas las causas'].copy()\n"
   ]
  },
  {
   "cell_type": "code",
   "execution_count": 86,
   "id": "25a13f04",
   "metadata": {},
   "outputs": [],
   "source": [
    "df = df.rename(columns={\n",
    "    'Causa de muerte': 'causa_de_muerte',\n",
    "    'Sexo': 'sexo',\n",
    "    'Provincias': 'provincias',\n",
    "    'mes': 'mes',\n",
    "    'year': 'anio',\n",
    "    'Muertes_por_causa': 'muertes_por_causa',\n",
    "    'codigo_provincia': 'codigo_provincia',\n",
    "    'LATITUD_G': 'latitud_g',\n",
    "    'LONGITUD_G': 'longitud_g',\n",
    "    'ALTITUD': 'altitud',\n",
    "    'TIPO_AREA': 'tipo_area',\n",
    "    'VALOR_ICA': 'valor_ica',\n",
    "    'Partido': 'partido',\n",
    "    'Poblacion': 'poblacion',\n",
    "    'Muertes_log': 'muertes_log',\n",
    "    'Categoria_Riesgo_ICA': 'categoria_riesgo_ica',\n",
    "    'Muertes_por_100k': 'muertes_por_100k',\n",
    "    'Riesgo_ICA': 'riesgo_ica'\n",
    "})"
   ]
  },
  {
   "cell_type": "code",
   "execution_count": 87,
   "id": "618a13c6",
   "metadata": {},
   "outputs": [
    {
     "name": "stderr",
     "output_type": "stream",
     "text": [
      "/tmp/ipykernel_20602/1508083833.py:10: FutureWarning: \n",
      "\n",
      "Passing `palette` without assigning `hue` is deprecated and will be removed in v0.14.0. Assign the `x` variable to `hue` and set `legend=False` for the same effect.\n",
      "\n",
      "  ax = sns.countplot(data=df, x='riesgo_ica', palette=['#2ecc71', '#f39c12', '#e74c3c'])\n"
     ]
    },
    {
     "data": {
      "image/png": "[encoded data removed]",
      "text/plain": [
       "<Figure size 1000x500 with 1 Axes>"
      ]
     },
     "metadata": {},
     "output_type": "display_data"
    },
    {
     "name": "stderr",
     "output_type": "stream",
     "text": [
      "/tmp/ipykernel_20602/1508083833.py:20: FutureWarning: \n",
      "\n",
      "Passing `palette` without assigning `hue` is deprecated and will be removed in v0.14.0. Assign the `x` variable to `hue` and set `legend=False` for the same effect.\n",
      "\n",
      "  sns.boxplot(data=df, x='riesgo_ica', y='muertes_por_100k', palette=['#2ecc71', '#f39c12', '#e74c3c'])\n",
      "/home/codespace/.local/lib/python3.12/site-packages/seaborn/categorical.py:3399: UserWarning: 33.1% of the points cannot be placed; you may want to decrease the size of the markers or use stripplot.\n",
      "  warnings.warn(msg, UserWarning)\n",
      "/home/codespace/.local/lib/python3.12/site-packages/seaborn/categorical.py:3399: UserWarning: 21.5% of the points cannot be placed; you may want to decrease the size of the markers or use stripplot.\n",
      "  warnings.warn(msg, UserWarning)\n",
      "/home/codespace/.local/lib/python3.12/site-packages/seaborn/categorical.py:3399: UserWarning: 32.6% of the points cannot be placed; you may want to decrease the size of the markers or use stripplot.\n",
      "  warnings.warn(msg, UserWarning)\n",
      "/home/codespace/.local/lib/python3.12/site-packages/seaborn/categorical.py:3399: UserWarning: 20.9% of the points cannot be placed; you may want to decrease the size of the markers or use stripplot.\n",
      "  warnings.warn(msg, UserWarning)\n"
     ]
    },
    {
     "data": {
      "image/png": "[encoded data removed]",
      "text/plain": [
       "<Figure size 1200x600 with 1 Axes>"
      ]
     },
     "metadata": {},
     "output_type": "display_data"
    }
   ],
   "source": [
    "import matplotlib.pyplot as plt\n",
    "import seaborn as sns\n",
    "from scipy import stats\n",
    "\n",
    "# Muestra solo una muestra aleatoria para el swarmplot si hay muchos datos\n",
    "sample_df = df.sample(n=2000, random_state=42) if len(df) > 2000 else df\n",
    "\n",
    "# Gráfico 1: Distribución de categorías de riesgo\n",
    "plt.figure(figsize=(10, 5))\n",
    "ax = sns.countplot(data=df, x='riesgo_ica', palette=['#2ecc71', '#f39c12', '#e74c3c'])\n",
    "plt.title(\"Distribución de Niveles de Riesgo ICA\\n(Umbral peligroso ≥29)\")\n",
    "for p in ax.patches:\n",
    "    ax.annotate(f'{p.get_height()}\\n({p.get_height()/len(df):.1%})', \n",
    "                (p.get_x() + p.get_width()/2., p.get_height()), \n",
    "                ha='center', va='center', xytext=(0, 10), textcoords='offset points')\n",
    "plt.show()\n",
    "\n",
    "# Gráfico 2: Mortalidad vs Riesgo ICA (boxplot + swarmplot)\n",
    "plt.figure(figsize=(12, 6))\n",
    "sns.boxplot(data=df, x='riesgo_ica', y='muertes_por_100k', palette=['#2ecc71', '#f39c12', '#e74c3c'])\n",
    "sns.swarmplot(data=sample_df, x='riesgo_ica', y='muertes_por_100k', color='black', alpha=0.3, size=2)\n",
    "plt.title(\"Tasa de Mortalidad por 100k hab. según Nivel de Riesgo ICA\")\n",
    "plt.xlabel(\"Categoría de Riesgo ICA\")\n",
    "plt.ylabel(\"Muertes por 100,000 habitantes\")\n",
    "\n",
    "# Test estadístico (Kruskal-Wallis para comparar grupos)\n",
    "labels = df['riesgo_ica'].unique()\n",
    "grupos = [df[df['riesgo_ica'] == cat]['muertes_por_100k'] for cat in labels]\n",
    "h_stat, p_val = stats.kruskal(*grupos)\n",
    "plt.text(0.5, 0.9, f'Kruskal-Wallis p-value: {p_val:.4f}', \n",
    "         transform=plt.gca().transAxes, bbox=dict(facecolor='white', alpha=0.8))\n",
    "plt.show()"
   ]
  },
  {
   "cell_type": "markdown",
   "id": "d906a1bd",
   "metadata": {},
   "source": [
    "La mayoría de los valores de mortalidad están cerca de cero, pero hay algunos registros con tasas muy altas (outliers).\n",
    "El test estadístico confirma que la mortalidad varía significativamente según el nivel de riesgo ICA.\n",
    "Visualmente, puedes comparar la mediana y la dispersión de la mortalidad en cada grupo de riesgo.\n",
    "En resumen:\n",
    "La gráfica muestra que la tasa de mortalidad por 100k habitantes cambia según el nivel de riesgo ICA, y esta diferencia es estadísticamente significativa."
   ]
  },
  {
   "cell_type": "code",
   "execution_count": 88,
   "id": "46b33099",
   "metadata": {},
   "outputs": [
    {
     "name": "stdout",
     "output_type": "stream",
     "text": [
      "🔍 Correlación entre ICA y muertes respiratorias por provincia:\n",
      "\n",
      "provincias\n",
      "03 Alicante/Alacant          0.046033\n",
      "08 Barcelona                 0.043576\n",
      "45 Toledo                    0.042493\n",
      "25 Lleida                    0.040155\n",
      "32 Ourense                   0.040078\n",
      "13 Ciudad Real               0.031098\n",
      "21 Huelva                    0.028321\n",
      "38 Santa Cruz de Tenerife    0.024113\n",
      "20 Gipuzkoa                  0.023604\n",
      "44 Teruel                    0.023499\n",
      "28 Madrid                    0.021356\n",
      "43 Tarragona                 0.021142\n",
      "22 Huesca                    0.018638\n",
      "31 Navarra                   0.014377\n",
      "27 Lugo                      0.012240\n",
      "07 Balears, Illes            0.009571\n",
      "19 Guadalajara               0.001891\n",
      "09 Burgos                    0.001209\n",
      "26 Rioja, La                 0.001182\n",
      "39 Cantabria                 0.000339\n",
      "49 Zamora                   -0.002014\n",
      "47 Valladolid               -0.002828\n",
      "17 Girona                   -0.005342\n",
      "34 Palencia                 -0.010247\n",
      "06 Badajoz                  -0.010718\n",
      "02 Albacete                 -0.014379\n",
      "42 Soria                    -0.015256\n",
      "37 Salamanca                -0.015871\n",
      "50 Zaragoza                 -0.016655\n",
      "18 Granada                  -0.018396\n",
      "16 Cuenca                   -0.022015\n",
      "36 Pontevedra               -0.036608\n",
      "51 Ceuta                    -0.060180\n",
      "30 Murcia                   -0.117092\n",
      "48 Bizkaia                  -0.122258\n",
      "dtype: float64\n"
     ]
    },
    {
     "name": "stderr",
     "output_type": "stream",
     "text": [
      "/tmp/ipykernel_20602/3602501566.py:5: DeprecationWarning: DataFrameGroupBy.apply operated on the grouping columns. This behavior is deprecated, and in a future version of pandas the grouping columns will be excluded from the operation. Either pass `include_groups=False` to exclude the groupings or explicitly select the grouping columns after groupby to silence this warning.\n",
      "  .apply(lambda g: g['muertes_por_causa'].corr(g['valor_ica']))\n"
     ]
    }
   ],
   "source": [
    "import pandas as pd\n",
    "# 🔹 Agrupar por provincia y calcular la correlación\n",
    "correlaciones_prov = (\n",
    "    df.groupby('provincias')\n",
    "    .apply(lambda g: g['muertes_por_causa'].corr(g['valor_ica']))\n",
    "    .sort_values(ascending=False)\n",
    ")\n",
    "\n",
    "# 🔹 Mostrar resultados\n",
    "print(\"🔍 Correlación entre ICA y muertes respiratorias por provincia:\\n\")\n",
    "print(correlaciones_prov)"
   ]
  },
  {
   "cell_type": "code",
   "execution_count": 89,
   "id": "03e2ce01",
   "metadata": {},
   "outputs": [
    {
     "name": "stdout",
     "output_type": "stream",
     "text": [
      "\n",
      "Correlaciones para Riesgo_ICA_Medio:\n",
      "                  muertes_por_100k  valor_ica  poblacion   altitud\n",
      "muertes_por_100k          1.000000  -0.006436  -0.157143  0.115325\n",
      "valor_ica                -0.006436   1.000000  -0.002382  0.086958\n",
      "poblacion                -0.157143  -0.002382   1.000000 -0.020391\n",
      "altitud                   0.115325   0.086958  -0.020391  1.000000\n",
      "\n",
      "Correlaciones para Riesgo_ICA_Bajo:\n",
      "                  muertes_por_100k  valor_ica  poblacion   altitud\n",
      "muertes_por_100k          1.000000  -0.058715  -0.145361  0.106499\n",
      "valor_ica                -0.058715   1.000000   0.097346 -0.088703\n",
      "poblacion                -0.145361   0.097346   1.000000 -0.116720\n",
      "altitud                   0.106499  -0.088703  -0.116720  1.000000\n",
      "\n",
      "Correlaciones para Riesgo_ICA_Alto:\n",
      "                  muertes_por_100k  valor_ica  poblacion   altitud\n",
      "muertes_por_100k          1.000000  -0.033810  -0.178131  0.258221\n",
      "valor_ica                -0.033810   1.000000   0.142125 -0.286039\n",
      "poblacion                -0.178131   0.142125   1.000000 -0.294266\n",
      "altitud                   0.258221  -0.286039  -0.294266  1.000000\n"
     ]
    }
   ],
   "source": [
    "for cat in df['riesgo_ica'].unique():\n",
    "    print(f\"\\nCorrelaciones para {cat}:\")\n",
    "    print(df[df['riesgo_ica'] == cat][['muertes_por_100k', 'valor_ica', 'poblacion', 'altitud']].corr())"
   ]
  },
  {
   "cell_type": "code",
   "execution_count": 90,
   "id": "00a1e2a1",
   "metadata": {},
   "outputs": [
    {
     "data": {
      "text/plain": [
       "Index(['causa_de_muerte', 'sexo', 'provincias', 'mes', 'anio',\n",
       "       'muertes_por_causa', 'codigo_provincia', 'latitud_g', 'longitud_g',\n",
       "       'altitud', 'tipo_area', 'valor_ica', 'CATEGORIA_ICA', 'partido',\n",
       "       'poblacion', 'muertes_log', 'riesgo_ica', 'muertes_por_100k'],\n",
       "      dtype='object')"
      ]
     },
     "execution_count": 90,
     "metadata": {},
     "output_type": "execute_result"
    }
   ],
   "source": [
    "df.columns"
   ]
  },
  {
   "cell_type": "code",
   "execution_count": 91,
   "id": "a8c7435f",
   "metadata": {},
   "outputs": [
    {
     "data": {
      "text/plain": [
       "array(['Hombres', 'Mujeres'], dtype=object)"
      ]
     },
     "execution_count": 91,
     "metadata": {},
     "output_type": "execute_result"
    }
   ],
   "source": [
    "df['sexo'].unique()"
   ]
  },
  {
   "cell_type": "code",
   "execution_count": 92,
   "id": "dc60d826",
   "metadata": {},
   "outputs": [
    {
     "data": {
      "text/plain": [
       "array(['SUBURBANA', 'URBANA', 'RURAL'], dtype=object)"
      ]
     },
     "execution_count": 92,
     "metadata": {},
     "output_type": "execute_result"
    }
   ],
   "source": [
    "df['tipo_area'].unique()"
   ]
  },
  {
   "cell_type": "code",
   "execution_count": 93,
   "id": "5531720e",
   "metadata": {},
   "outputs": [
    {
     "data": {
      "text/plain": [
       "array(['001-008  I.Enfermedades infecciosas y parasitarias',\n",
       "       '009-041  II.Tumores',\n",
       "       '042-043  III.Enfermedades de la sangre y de los órganos hematopoyéticos, y ciertos trastornos que afectan al mecanismo de la inmunidad',\n",
       "       '044-045  IV.Enfermedades endocrinas, nutricionales y metabólicas',\n",
       "       '046-049  V.Trastornos mentales y del comportamiento',\n",
       "       '050-052  VI-VIII.Enfermedades del sistema nervioso y de los órganos de los sentidos',\n",
       "       '053-061 IX.Enfermedades del sistema circulatorio',\n",
       "       '062-067  X.Enfermedades del sistema respiratorio',\n",
       "       '068-072  XI.Enfermedades del sistema digestivo',\n",
       "       '073  XII.Enfermedades de la piel y del tejido subcutáneo',\n",
       "       '074-076  XIII.Enfermedades del sistema osteomuscular y del tejido conjuntivo',\n",
       "       '077-080  XIV.Enfermedades del sistema genitourinario',\n",
       "       '081  XV.Embarazo, parto y puerperio',\n",
       "       '082  XVI.Afecciones originadas en el periodo perinatal',\n",
       "       '083-085  XVII.Malformaciones congénitas, deformidades y anomalías cromosómicas',\n",
       "       '086-089  XVIII.Síntomas, signos y hallazgos anormales clínicos y de laboratorio, no clasificados en otra parte',\n",
       "       '090-102  XX.Causas externas de mortalidad'], dtype=object)"
      ]
     },
     "execution_count": 93,
     "metadata": {},
     "output_type": "execute_result"
    }
   ],
   "source": [
    "df['causa_de_muerte'].unique()"
   ]
  },
  {
   "cell_type": "code",
   "execution_count": 94,
   "id": "175f987d",
   "metadata": {},
   "outputs": [
    {
     "data": {
      "text/plain": [
       "array(['PP', 'PSOE', 'PSC', 'PNV', 'CiU', 'UPN', 'DO', 'CC', 'IU'],\n",
       "      dtype=object)"
      ]
     },
     "execution_count": 94,
     "metadata": {},
     "output_type": "execute_result"
    }
   ],
   "source": [
    "df['partido'].unique()"
   ]
  },
  {
   "cell_type": "code",
   "execution_count": 95,
   "id": "5f14c656",
   "metadata": {},
   "outputs": [
    {
     "name": "stdout",
     "output_type": "stream",
     "text": [
      "              precision    recall  f1-score   support\n",
      "\n",
      "        alta       0.99      0.99      0.99     11189\n",
      "        baja       1.00      0.99      1.00     11190\n",
      "       media       0.99      0.99      0.99     11188\n",
      "\n",
      "    accuracy                           0.99     33567\n",
      "   macro avg       0.99      0.99      0.99     33567\n",
      "weighted avg       0.99      0.99      0.99     33567\n",
      "\n",
      "[[11106     0    83]\n",
      " [    0 11134    56]\n",
      " [   95    53 11040]]\n",
      "Probabilidades de cada clase para las primeras filas:\n",
      " [[1.   0.   0.  ]\n",
      " [0.   0.   1.  ]\n",
      " [1.   0.   0.  ]\n",
      " [1.   0.   0.  ]\n",
      " [0.   0.99 0.01]]\n"
     ]
    }
   ],
   "source": [
    "from sklearn.ensemble import RandomForestClassifier\n",
    "from sklearn.model_selection import train_test_split\n",
    "from sklearn.metrics import classification_report, confusion_matrix\n",
    "import pandas as pd\n",
    "\n",
    "# Transformar la columna 'partido' en categórica con categorías fijas\n",
    "partidos = ['PP', 'PSOE', 'PSC', 'PNV', 'CiU', 'UPN', 'DO', 'CC', 'IU']\n",
    "df['partido'] = pd.Categorical(df['partido'], categories=partidos)\n",
    "\n",
    "# One-hot encoding directamente en X\n",
    "X = df[['valor_ica', 'codigo_provincia', 'altitud', 'partido', 'poblacion', 'muertes_log', ]]\n",
    "X = pd.get_dummies(X, columns=['partido'], drop_first=True)\n",
    "\n",
    "# Crear variable target categórica (baja, media, alta) según muertes_por_100k\n",
    "df['clase_mortalidad'] = pd.qcut(df['muertes_por_100k'], q=3, labels=['baja', 'media', 'alta'])\n",
    "y = df['clase_mortalidad']\n",
    "\n",
    "# Train/test split\n",
    "X_train, X_test, y_train, y_test = train_test_split(X, y, stratify=y, random_state=42)\n",
    "\n",
    "# Modelo Random Forest\n",
    "rf = RandomForestClassifier(n_estimators=100, random_state=42)\n",
    "rf.fit(X_train, y_train)\n",
    "\n",
    "# Predicción y evaluación\n",
    "y_pred = rf.predict(X_test)\n",
    "print(classification_report(y_test, y_pred))\n",
    "print(confusion_matrix(y_test, y_pred))\n",
    "\n",
    "# Probabilidades de cada clase\n",
    "probs = rf.predict_proba(X_test)\n",
    "print(\"Probabilidades de cada clase para las primeras filas:\\n\", probs[:5])      "
   ]
  },
  {
   "cell_type": "code",
   "execution_count": 50,
   "id": "bfec978b",
   "metadata": {},
   "outputs": [
    {
     "name": "stdout",
     "output_type": "stream",
     "text": [
      "              precision    recall  f1-score   support\n",
      "\n",
      "        alta       0.89      0.89      0.89     11189\n",
      "        baja       0.91      0.90      0.90     11190\n",
      "       media       0.82      0.83      0.82     11188\n",
      "\n",
      "    accuracy                           0.87     33567\n",
      "   macro avg       0.87      0.87      0.87     33567\n",
      "weighted avg       0.87      0.87      0.87     33567\n",
      "\n",
      "[[ 9996   103  1090]\n",
      " [  199 10070   921]\n",
      " [  989   952  9247]]\n",
      "Probabilidades de cada clase para las primeras filas:\n",
      " [[0.97 0.   0.03]\n",
      " [0.   0.   1.  ]\n",
      " [0.98 0.   0.02]\n",
      " [0.97 0.   0.03]\n",
      " [0.   0.92 0.08]]\n"
     ]
    }
   ],
   "source": [
    "from sklearn.ensemble import RandomForestClassifier\n",
    "from sklearn.model_selection import train_test_split\n",
    "from sklearn.metrics import classification_report, confusion_matrix\n",
    "import pandas as pd\n",
    "\n",
    "# Categorizar variables\n",
    "partidos = ['PP', 'PSOE', 'PSC', 'PNV', 'CiU', 'UPN', 'DO', 'CC', 'IU']\n",
    "df['partido'] = pd.Categorical(df['partido'], categories=partidos)\n",
    "\n",
    "tipo_area_cats = ['SUBURBANA', 'URBANA', 'RURAL']\n",
    "df['tipo_area'] = pd.Categorical(df['tipo_area'], categories=tipo_area_cats)\n",
    "\n",
    "causas_cats = [\n",
    "    '001-008  I.Enfermedades infecciosas y parasitarias',\n",
    "    '009-041  II.Tumores',\n",
    "    '042-043  III.Enfermedades de la sangre y de los órganos hematopoyéticos, y ciertos trastornos que afectan al mecanismo de la inmunidad',\n",
    "    '044-045  IV.Enfermedades endocrinas, nutricionales y metabólicas',\n",
    "    '046-049  V.Trastornos mentales y del comportamiento',\n",
    "    '050-052  VI-VIII.Enfermedades del sistema nervioso y de los órganos de los sentidos',\n",
    "    '053-061 IX.Enfermedades del sistema circulatorio',\n",
    "    '062-067  X.Enfermedades del sistema respiratorio',\n",
    "    '068-072  XI.Enfermedades del sistema digestivo',\n",
    "    '073  XII.Enfermedades de la piel y del tejido subcutáneo',\n",
    "    '074-076  XIII.Enfermedades del sistema osteomuscular y del tejido conjuntivo',\n",
    "    '077-080  XIV.Enfermedades del sistema genitourinario',\n",
    "    '081  XV.Embarazo, parto y puerperio',\n",
    "    '082  XVI.Afecciones originadas en el periodo perinatal',\n",
    "    '083-085  XVII.Malformaciones congénitas, deformidades y anomalías cromosómicas',\n",
    "    '086-089  XVIII.Síntomas, signos y hallazgos anormales clínicos y de laboratorio, no clasificados en otra parte',\n",
    "    '090-102  XX.Causas externas de mortalidad'\n",
    "]\n",
    "df['causa_de_muerte'] = pd.Categorical(df['causa_de_muerte'], categories=causas_cats)\n",
    "\n",
    "sexo_cats = ['Hombres', 'Mujeres']\n",
    "df['sexo'] = pd.Categorical(df['sexo'], categories=sexo_cats)\n",
    "\n",
    "# One-hot encoding directamente en X (incluyendo nuevas variables categóricas)\n",
    "X = df[['valor_ica', 'codigo_provincia', 'altitud', 'partido', 'poblacion', 'tipo_area', 'causa_de_muerte', 'sexo']]\n",
    "X = pd.get_dummies(X, columns=['partido', 'tipo_area', 'causa_de_muerte', 'sexo'], drop_first=True)\n",
    "\n",
    "# Crear variable target categórica (baja, media, alta) según muertes_por_100k\n",
    "df['clase_mortalidad'] = pd.qcut(df['muertes_por_100k'], q=3, labels=['baja', 'media', 'alta'])\n",
    "y = df['clase_mortalidad']\n",
    "\n",
    "# Train/test split\n",
    "X_train, X_test, y_train, y_test = train_test_split(X, y, stratify=y, random_state=42)\n",
    "\n",
    "# Modelo Random Forest\n",
    "rf = RandomForestClassifier(n_estimators=100, random_state=42)\n",
    "rf.fit(X_train, y_train)\n",
    "\n",
    "# Predicción y evaluación\n",
    "y_pred = rf.predict(X_test)\n",
    "print(classification_report(y_test, y_pred))\n",
    "print(confusion_matrix(y_test, y_pred))\n",
    "\n",
    "# Probabilidades de cada clase\n",
    "probs = rf.predict_proba(X_test)\n",
    "print(\"Probabilidades de cada clase para las primeras filas:\\n\", probs[:5])"
   ]
  },
  {
   "cell_type": "code",
   "execution_count": 96,
   "id": "6bff618c",
   "metadata": {},
   "outputs": [
    {
     "name": "stdout",
     "output_type": "stream",
     "text": [
      "Variables más importantes:\n",
      "muertes_log         0.668346\n",
      "poblacion           0.249054\n",
      "altitud             0.030494\n",
      "valor_ica           0.019929\n",
      "codigo_provincia    0.018811\n",
      "partido_PSC         0.005117\n",
      "partido_PSOE        0.002431\n",
      "partido_CiU         0.001533\n",
      "partido_PNV         0.001232\n",
      "partido_CC          0.001073\n",
      "partido_UPN         0.000857\n",
      "partido_IU          0.000664\n",
      "partido_DO          0.000459\n",
      "dtype: float64\n"
     ]
    },
    {
     "data": {
      "image/png": "[encoded data removed]",
      "text/plain": [
       "<Figure size 1000x800 with 1 Axes>"
      ]
     },
     "metadata": {},
     "output_type": "display_data"
    }
   ],
   "source": [
    "import matplotlib.pyplot as plt\n",
    "import pandas as pd\n",
    "import numpy as np\n",
    "\n",
    "# Obtener la importancia de las variables\n",
    "importances = rf.feature_importances_\n",
    "feature_names = X.columns\n",
    "\n",
    "# Crear un DataFrame ordenado por importancia\n",
    "feat_imp = pd.Series(importances, index=feature_names).sort_values(ascending=False)\n",
    "\n",
    "# Mostrar las 15 variables más importantes\n",
    "print(\"Variables más importantes:\")\n",
    "print(feat_imp.head(15))\n",
    "\n",
    "# Visualización\n",
    "plt.figure(figsize=(10, 8))\n",
    "feat_imp.head(15).plot(kind='barh')\n",
    "plt.gca().invert_yaxis()\n",
    "plt.title(\"Top 15 variables más importantes (Random Forest)\")\n",
    "plt.xlabel(\"Importancia\")\n",
    "plt.tight_layout()\n",
    "plt.show()"
   ]
  },
  {
   "cell_type": "markdown",
   "id": "64c134f6",
   "metadata": {},
   "source": [
    "para  ver a nivel variable cual afecta mas:"
   ]
  },
  {
   "cell_type": "code",
   "execution_count": 97,
   "id": "9b350831",
   "metadata": {},
   "outputs": [
    {
     "name": "stdout",
     "output_type": "stream",
     "text": [
      "Importancia agrupada por variable original:\n",
      "base_var\n",
      "muertes      0.668346\n",
      "poblacion    0.249054\n",
      "altitud      0.030494\n",
      "valor        0.019929\n",
      "codigo       0.018811\n",
      "partido      0.013367\n",
      "Name: importance, dtype: float64\n"
     ]
    }
   ],
   "source": [
    "import pandas as pd\n",
    "\n",
    "# Crear un DataFrame con las importancias y los nombres de las variables\n",
    "feat_imp_df = pd.DataFrame({'feature': X.columns, 'importance': rf.feature_importances_})\n",
    "\n",
    "# Función para extraer el nombre base de la variable\n",
    "def get_base_var(col):\n",
    "    return col.split('_')[0] if '_' in col else col\n",
    "\n",
    "feat_imp_df['base_var'] = feat_imp_df['feature'].apply(get_base_var)\n",
    "\n",
    "# Sumar importancia por variable original\n",
    "grouped_importance = feat_imp_df.groupby('base_var')['importance'].sum().sort_values(ascending=False)\n",
    "\n",
    "print(\"Importancia agrupada por variable original:\")\n",
    "print(grouped_importance)"
   ]
  },
  {
   "cell_type": "markdown",
   "id": "64c7307f",
   "metadata": {},
   "source": [
    "vamos a tratar de mejorar los resultados de la clasificacion variando parametros:"
   ]
  },
  {
   "cell_type": "code",
   "execution_count": 98,
   "id": "481e799b",
   "metadata": {},
   "outputs": [
    {
     "name": "stdout",
     "output_type": "stream",
     "text": [
      "Mejores hiperparámetros: {'max_depth': None, 'min_samples_leaf': 2, 'min_samples_split': 5, 'n_estimators': 200}\n",
      "Mejor accuracy (validación cruzada): 0.8779034868537547\n",
      "              precision    recall  f1-score   support\n",
      "\n",
      "        alta       0.90      0.90      0.90     11189\n",
      "        baja       0.91      0.90      0.91     11190\n",
      "       media       0.83      0.84      0.83     11188\n",
      "\n",
      "    accuracy                           0.88     33567\n",
      "   macro avg       0.88      0.88      0.88     33567\n",
      "weighted avg       0.88      0.88      0.88     33567\n",
      "\n",
      "[[10020    93  1076]\n",
      " [  201 10096   893]\n",
      " [  926   860  9402]]\n",
      "Probabilidades de cada clase para las primeras filas:\n",
      " [[0.92310614 0.00294672 0.07394714]\n",
      " [0.00414286 0.00583333 0.99002381]\n",
      " [0.97133055 0.00357213 0.02509732]\n",
      " [0.98463966 0.         0.01536034]\n",
      " [0.         0.86782867 0.13217133]]\n"
     ]
    }
   ],
   "source": [
    "from sklearn.ensemble import RandomForestClassifier\n",
    "from sklearn.model_selection import train_test_split, GridSearchCV\n",
    "from sklearn.metrics import classification_report, confusion_matrix\n",
    "import pandas as pd\n",
    "\n",
    "# --- Preprocesamiento y categorización ---\n",
    "partidos = ['PP', 'PSOE', 'PSC', 'PNV', 'CiU', 'UPN', 'DO', 'CC', 'IU']\n",
    "df['partido'] = pd.Categorical(df['partido'], categories=partidos)\n",
    "\n",
    "tipo_area_cats = ['SUBURBANA', 'URBANA', 'RURAL']\n",
    "df['tipo_area'] = pd.Categorical(df['tipo_area'], categories=tipo_area_cats)\n",
    "\n",
    "causas_cats = [\n",
    "    '001-008  I.Enfermedades infecciosas y parasitarias',\n",
    "    '009-041  II.Tumores',\n",
    "    '042-043  III.Enfermedades de la sangre y de los órganos hematopoyéticos, y ciertos trastornos que afectan al mecanismo de la inmunidad',\n",
    "    '044-045  IV.Enfermedades endocrinas, nutricionales y metabólicas',\n",
    "    '046-049  V.Trastornos mentales y del comportamiento',\n",
    "    '050-052  VI-VIII.Enfermedades del sistema nervioso y de los órganos de los sentidos',\n",
    "    '053-061 IX.Enfermedades del sistema circulatorio',\n",
    "    '062-067  X.Enfermedades del sistema respiratorio',\n",
    "    '068-072  XI.Enfermedades del sistema digestivo',\n",
    "    '073  XII.Enfermedades de la piel y del tejido subcutáneo',\n",
    "    '074-076  XIII.Enfermedades del sistema osteomuscular y del tejido conjuntivo',\n",
    "    '077-080  XIV.Enfermedades del sistema genitourinario',\n",
    "    '081  XV.Embarazo, parto y puerperio',\n",
    "    '082  XVI.Afecciones originadas en el periodo perinatal',\n",
    "    '083-085  XVII.Malformaciones congénitas, deformidades y anomalías cromosómicas',\n",
    "    '086-089  XVIII.Síntomas, signos y hallazgos anormales clínicos y de laboratorio, no clasificados en otra parte',\n",
    "    '090-102  XX.Causas externas de mortalidad'\n",
    "]\n",
    "df['causa_de_muerte'] = pd.Categorical(df['causa_de_muerte'], categories=causas_cats)\n",
    "\n",
    "sexo_cats = ['Hombres', 'Mujeres']\n",
    "df['sexo'] = pd.Categorical(df['sexo'], categories=sexo_cats)\n",
    "\n",
    "# --- Features y target ---\n",
    "X = df[['valor_ica', 'codigo_provincia', 'altitud', 'partido', 'poblacion', 'tipo_area', 'causa_de_muerte', 'sexo']]\n",
    "X = pd.get_dummies(X, columns=['partido', 'tipo_area', 'causa_de_muerte', 'sexo'], drop_first=True)\n",
    "df['clase_mortalidad'] = pd.qcut(df['muertes_por_100k'], q=3, labels=['baja', 'media', 'alta'])\n",
    "y = df['clase_mortalidad']\n",
    "\n",
    "# --- Train/test split ---\n",
    "X_train, X_test, y_train, y_test = train_test_split(X, y, stratify=y, random_state=42)\n",
    "\n",
    "# --- Grid Search con validación cruzada ---\n",
    "param_grid = {\n",
    "    'n_estimators': [100, 200],\n",
    "    'max_depth': [None, 10, 20],\n",
    "    'min_samples_split': [2, 5],\n",
    "    'min_samples_leaf': [1, 2]\n",
    "}\n",
    "rf = RandomForestClassifier(random_state=42)\n",
    "grid_search = GridSearchCV(rf, param_grid, cv=5, scoring='accuracy', n_jobs=-1)\n",
    "grid_search.fit(X_train, y_train)\n",
    "\n",
    "print(\"Mejores hiperparámetros:\", grid_search.best_params_)\n",
    "print(\"Mejor accuracy (validación cruzada):\", grid_search.best_score_)\n",
    "\n",
    "# --- Evaluación en test ---\n",
    "best_rf = grid_search.best_estimator_\n",
    "y_pred = best_rf.predict(X_test)\n",
    "print(classification_report(y_test, y_pred))\n",
    "print(confusion_matrix(y_test, y_pred))\n",
    "\n",
    "# # Probabilidades de cada clase\n",
    "probs = best_rf.predict_proba(X_test)\n",
    "print(\"Probabilidades de cada clase para las primeras filas:\\n\", probs[:5])"
   ]
  },
  {
   "cell_type": "code",
   "execution_count": 99,
   "id": "9544485c",
   "metadata": {},
   "outputs": [
    {
     "name": "stdout",
     "output_type": "stream",
     "text": [
      "Variables más importantes (modelo optimizado):\n",
      "poblacion                                                                                              0.273616\n",
      "valor_ica                                                                                              0.088704\n",
      "causa_de_muerte_081  XV.Embarazo, parto y puerperio                                                    0.078941\n",
      "causa_de_muerte_082  XVI.Afecciones originadas en el periodo perinatal                                 0.074078\n",
      "causa_de_muerte_083-085  XVII.Malformaciones congénitas, deformidades y anomalías cromosómicas         0.065942\n",
      "causa_de_muerte_062-067  X.Enfermedades del sistema respiratorio                                       0.038516\n",
      "causa_de_muerte_074-076  XIII.Enfermedades del sistema osteomuscular y del tejido conjuntivo           0.034595\n",
      "altitud                                                                                                0.032800\n",
      "causa_de_muerte_050-052  VI-VIII.Enfermedades del sistema nervioso y de los órganos de los sentidos    0.029952\n",
      "sexo_Mujeres                                                                                           0.029775\n",
      "codigo_provincia                                                                                       0.028694\n",
      "causa_de_muerte_073  XII.Enfermedades de la piel y del tejido subcutáneo                               0.028246\n",
      "causa_de_muerte_009-041  II.Tumores                                                                    0.026740\n",
      "causa_de_muerte_053-061 IX.Enfermedades del sistema circulatorio                                       0.025876\n",
      "causa_de_muerte_068-072  XI.Enfermedades del sistema digestivo                                         0.025363\n",
      "dtype: float64\n"
     ]
    },
    {
     "data": {
      "text/plain": [
       "Text(0.5, 0, 'Importancia')"
      ]
     },
     "execution_count": 99,
     "metadata": {},
     "output_type": "execute_result"
    },
    {
     "data": {
      "image/png": "[encoded data removed]",
      "text/plain": [
       "<Figure size 1000x600 with 1 Axes>"
      ]
     },
     "metadata": {},
     "output_type": "display_data"
    }
   ],
   "source": [
    "import matplotlib.pyplot as plt\n",
    "import pandas as pd\n",
    "\n",
    "# Importancia de las variables con el mejor modelo\n",
    "importances = best_rf.feature_importances_\n",
    "feature_names = X.columns\n",
    "\n",
    "# Crear un DataFrame ordenado por importancia\n",
    "feat_imp = pd.Series(importances, index=feature_names).sort_values(ascending=False)\n",
    "\n",
    "# Mostrar las 15 variables más importantes\n",
    "print(\"Variables más importantes (modelo optimizado):\")\n",
    "print(feat_imp.head(15))\n",
    "\n",
    "# Visualización\n",
    "plt.figure(figsize=(10, 6))\n",
    "feat_imp.head(15).plot(kind='barh')\n",
    "plt.gca().invert_yaxis()\n",
    "plt.title(\"Top 15 variables más importantes (Random Forest optimizado)\")\n",
    "plt.xlabel(\"Importancia\")"
   ]
  },
  {
   "cell_type": "code",
   "execution_count": 102,
   "id": "2a399b55",
   "metadata": {},
   "outputs": [
    {
     "name": "stdout",
     "output_type": "stream",
     "text": [
      "Reporte en TRAIN:\n",
      "              precision    recall  f1-score   support\n",
      "\n",
      "        alta       0.97      0.97      0.97     33567\n",
      "        baja       0.97      0.96      0.97     33567\n",
      "       media       0.94      0.95      0.94     33565\n",
      "\n",
      "    accuracy                           0.96    100699\n",
      "   macro avg       0.96      0.96      0.96    100699\n",
      "weighted avg       0.96      0.96      0.96    100699\n",
      "\n",
      "[[32478    18  1071]\n",
      " [  255 32252  1060]\n",
      " [  770   957 31838]]\n",
      "Reporte en TEST:\n",
      "              precision    recall  f1-score   support\n",
      "\n",
      "        alta       0.90      0.90      0.90     11189\n",
      "        baja       0.91      0.90      0.91     11190\n",
      "       media       0.83      0.84      0.83     11188\n",
      "\n",
      "    accuracy                           0.88     33567\n",
      "   macro avg       0.88      0.88      0.88     33567\n",
      "weighted avg       0.88      0.88      0.88     33567\n",
      "\n",
      "[[10020    93  1076]\n",
      " [  201 10096   893]\n",
      " [  926   860  9402]]\n",
      "Mejores hiperparámetros: {'max_depth': None, 'min_samples_leaf': 2, 'min_samples_split': 5, 'n_estimators': 200}\n",
      "Mejor accuracy (validación cruzada): 0.8779034868537547\n",
      "              precision    recall  f1-score   support\n",
      "\n",
      "        alta       0.90      0.90      0.90     11189\n",
      "        baja       0.91      0.90      0.91     11190\n",
      "       media       0.83      0.84      0.83     11188\n",
      "\n",
      "    accuracy                           0.88     33567\n",
      "   macro avg       0.88      0.88      0.88     33567\n",
      "weighted avg       0.88      0.88      0.88     33567\n",
      "\n",
      "[[10020    93  1076]\n",
      " [  201 10096   893]\n",
      " [  926   860  9402]]\n",
      "Probabilidades de cada clase para las primeras filas:\n",
      " [[0.92310614 0.00294672 0.07394714]\n",
      " [0.00414286 0.00583333 0.99002381]\n",
      " [0.97133055 0.00357213 0.02509732]\n",
      " [0.98463966 0.         0.01536034]\n",
      " [0.         0.86782867 0.13217133]]\n"
     ]
    }
   ],
   "source": [
    "from sklearn.ensemble import RandomForestClassifier\n",
    "from sklearn.model_selection import train_test_split, GridSearchCV\n",
    "from sklearn.metrics import classification_report, confusion_matrix\n",
    "\n",
    "# --- Preprocesamiento y categorización ---\n",
    "partidos = ['PP', 'PSOE', 'PSC', 'PNV', 'CiU', 'UPN', 'DO', 'CC', 'IU']\n",
    "df['partido'] = pd.Categorical(df['partido'], categories=partidos)\n",
    "\n",
    "tipo_area_cats = ['SUBURBANA', 'URBANA', 'RURAL']\n",
    "df['tipo_area'] = pd.Categorical(df['tipo_area'], categories=tipo_area_cats)\n",
    "\n",
    "causas_cats = [\n",
    "    '001-008  I.Enfermedades infecciosas y parasitarias',\n",
    "    '009-041  II.Tumores',\n",
    "    '042-043  III.Enfermedades de la sangre y de los órganos hematopoyéticos, y ciertos trastornos que afectan al mecanismo de la inmunidad',\n",
    "    '044-045  IV.Enfermedades endocrinas, nutricionales y metabólicas',\n",
    "    '046-049  V.Trastornos mentales y del comportamiento',\n",
    "    '050-052  VI-VIII.Enfermedades del sistema nervioso y de los órganos de los sentidos',\n",
    "    '053-061 IX.Enfermedades del sistema circulatorio',\n",
    "    '062-067  X.Enfermedades del sistema respiratorio',\n",
    "    '068-072  XI.Enfermedades del sistema digestivo',\n",
    "    '073  XII.Enfermedades de la piel y del tejido subcutáneo',\n",
    "    '074-076  XIII.Enfermedades del sistema osteomuscular y del tejido conjuntivo',\n",
    "    '077-080  XIV.Enfermedades del sistema genitourinario',\n",
    "    '081  XV.Embarazo, parto y puerperio',\n",
    "    '082  XVI.Afecciones originadas en el periodo perinatal',\n",
    "    '083-085  XVII.Malformaciones congénitas, deformidades y anomalías cromosómicas',\n",
    "    '086-089  XVIII.Síntomas, signos y hallazgos anormales clínicos y de laboratorio, no clasificados en otra parte',\n",
    "    '090-102  XX.Causas externas de mortalidad'\n",
    "]\n",
    "df['causa_de_muerte'] = pd.Categorical(df['causa_de_muerte'], categories=causas_cats)\n",
    "\n",
    "sexo_cats = ['Hombres', 'Mujeres']\n",
    "df['sexo'] = pd.Categorical(df['sexo'], categories=sexo_cats)\n",
    "\n",
    "# --- Features y target (añadiendo coordenadas) ---\n",
    "X = df[['valor_ica', 'codigo_provincia', 'altitud', 'partido', 'poblacion', 'tipo_area', 'causa_de_muerte', 'sexo']]\n",
    "X = pd.get_dummies(X, columns=['partido', 'tipo_area', 'causa_de_muerte', 'sexo'], drop_first=True)\n",
    "df['clase_mortalidad'] = pd.qcut(df['muertes_por_100k'], q=3, labels=['baja', 'media', 'alta'])\n",
    "y = df['clase_mortalidad']\n",
    "\n",
    "# --- Train/test split ---\n",
    "X_train, X_test, y_train, y_test = train_test_split(X, y, stratify=y, random_state=42)\n",
    "\n",
    "# --- Grid Search con validación cruzada ---\n",
    "param_grid = {\n",
    "    'n_estimators': [100, 200],\n",
    "    'max_depth': [None, 10, 20],\n",
    "    'min_samples_split': [2, 5],\n",
    "    'min_samples_leaf': [1, 2]\n",
    "}\n",
    "# Después de ajustar grid_search y obtener el mejor estimador\n",
    "best_rf = grid_search.best_estimator_\n",
    "\n",
    "# Evaluación en train (sobre el split de entrenamiento)\n",
    "y_train_pred = best_rf.predict(X_train)\n",
    "print(\"Reporte en TRAIN:\")\n",
    "print(classification_report(y_train, y_train_pred))\n",
    "print(confusion_matrix(y_train, y_train_pred))\n",
    "\n",
    "# Evaluación en test (split de test)\n",
    "print(\"Reporte en TEST:\")\n",
    "y_pred = best_rf.predict(X_test)\n",
    "print(classification_report(y_test, y_pred))\n",
    "print(confusion_matrix(y_test, y_pred))\n",
    "\n",
    "\n",
    "rf = RandomForestClassifier(random_state=42)\n",
    "grid_search = GridSearchCV(rf, param_grid, cv=5, scoring='accuracy', n_jobs=-1)\n",
    "grid_search.fit(X_train, y_train)\n",
    "\n",
    "print(\"Mejores hiperparámetros:\", grid_search.best_params_)\n",
    "print(\"Mejor accuracy (validación cruzada):\", grid_search.best_score_)\n",
    "\n",
    "# --- Evaluación en test ---\n",
    "best_rf = grid_search.best_estimator_\n",
    "y_pred = best_rf.predict(X_test)\n",
    "print(classification_report(y_test, y_pred))\n",
    "print(confusion_matrix(y_test, y_pred))\n",
    "\n",
    "# Probabilidades de cada clase\n",
    "probs = best_rf.predict_proba(X_test)\n",
    "print(\"Probabilidades de cada clase para las primeras filas:\\n\", probs[:5])"
   ]
  },
  {
   "cell_type": "markdown",
   "id": "52597a95",
   "metadata": {},
   "source": [
    "Como no ha mejorado añadiendo las coordenadas, ya que la informacion geografica ya está recogida en el codigo de la provincia, prefiero no incorporarlas por simplicidad del método."
   ]
  },
  {
   "cell_type": "code",
   "execution_count": 103,
   "id": "855832b6",
   "metadata": {},
   "outputs": [
    {
     "name": "stdout",
     "output_type": "stream",
     "text": [
      "Modelo guardado como modelo_random_forest_mortalidad.pkl\n"
     ]
    }
   ],
   "source": [
    "import joblib\n",
    "\n",
    "# Entrena el modelo final SIN coordenadas\n",
    "X = df[['valor_ica', 'codigo_provincia', 'altitud', 'partido', 'poblacion', 'tipo_area', 'causa_de_muerte', 'sexo']]\n",
    "X = pd.get_dummies(X, columns=['partido', 'tipo_area', 'causa_de_muerte', 'sexo'], drop_first=True)\n",
    "y = df['clase_mortalidad']\n",
    "\n",
    "best_rf = RandomForestClassifier(\n",
    "    n_estimators=200,\n",
    "    max_depth=None,\n",
    "    min_samples_leaf=2,\n",
    "    min_samples_split=5,\n",
    "    random_state=42\n",
    ")\n",
    "best_rf.fit(X, y)\n",
    "\n",
    "# Guarda el modelo entrenado\n",
    "joblib.dump(best_rf, 'modelo_random_forest_mortalidad.pkl')\n",
    "print(\"Modelo guardado como modelo_random_forest_mortalidad.pkl\")"
   ]
  },
  {
   "cell_type": "code",
   "execution_count": 90,
   "id": "1ee6f3d5",
   "metadata": {},
   "outputs": [
    {
     "data": {
      "image/png": "[encoded data removed]",
      "text/plain": [
       "<Figure size 640x480 with 2 Axes>"
      ]
     },
     "metadata": {},
     "output_type": "display_data"
    }
   ],
   "source": [
    "import seaborn as sns\n",
    "import matplotlib.pyplot as plt\n",
    "from sklearn.metrics import confusion_matrix\n",
    "\n",
    "cm = confusion_matrix(y_test, y_pred, labels=['alta', 'baja', 'media'])\n",
    "sns.heatmap(cm, annot=True, fmt='d', cmap='Blues', xticklabels=['alta', 'baja', 'media'], yticklabels=['alta', 'baja', 'media'])\n",
    "plt.xlabel('Predicción')\n",
    "plt.ylabel('Real')\n",
    "plt.title('Matriz de confusión')\n",
    "plt.show()\n"
   ]
  },
  {
   "cell_type": "code",
   "execution_count": 91,
   "id": "ee2e55f5",
   "metadata": {},
   "outputs": [
    {
     "data": {
      "image/png": "[encoded data removed]",
      "text/plain": [
       "<Figure size 640x480 with 1 Axes>"
      ]
     },
     "metadata": {},
     "output_type": "display_data"
    }
   ],
   "source": [
    "from sklearn.metrics import precision_recall_curve, average_precision_score\n",
    "\n",
    "# Probabilidades para la clase \"alta\"\n",
    "probs_alta = probs[:, 0]  # Asegúrate que el índice coincide con la clase 'alta'\n",
    "\n",
    "y_test_binaria = (y_test == 'alta').astype(int)\n",
    "\n",
    "precision, recall, thresholds = precision_recall_curve(y_test_binaria, probs_alta)\n",
    "avg_prec = average_precision_score(y_test_binaria, probs_alta)\n",
    "\n",
    "plt.plot(recall, precision, label=f'AP={avg_prec:.2f}')\n",
    "plt.xlabel('Recall')\n",
    "plt.ylabel('Precision')\n",
    "plt.title('Curva Precision-Recall para clase \"alta\"')\n",
    "plt.legend()\n",
    "plt.show()\n"
   ]
  },
  {
   "cell_type": "code",
   "execution_count": 92,
   "id": "28ce608c",
   "metadata": {},
   "outputs": [
    {
     "name": "stdout",
     "output_type": "stream",
     "text": [
      "Clase alta — Precision: 0.899, Recall: 0.894, F1-score: 0.896\n"
     ]
    }
   ],
   "source": [
    "from sklearn.metrics import precision_score, recall_score, f1_score\n",
    "\n",
    "precision_alta = precision_score(y_test, y_pred, labels=['alta'], average='macro')\n",
    "recall_alta = recall_score(y_test, y_pred, labels=['alta'], average='macro')\n",
    "f1_alta = f1_score(y_test, y_pred, labels=['alta'], average='macro')\n",
    "\n",
    "print(f'Clase alta — Precision: {precision_alta:.3f}, Recall: {recall_alta:.3f}, F1-score: {f1_alta:.3f}')\n"
   ]
  },
  {
   "cell_type": "code",
   "execution_count": 25,
   "id": "a00de6df",
   "metadata": {},
   "outputs": [
    {
     "ename": "NameError",
     "evalue": "name 'probs' is not defined",
     "output_type": "error",
     "traceback": [
      "\u001b[31m---------------------------------------------------------------------------\u001b[39m",
      "\u001b[31mNameError\u001b[39m                                 Traceback (most recent call last)",
      "\u001b[36mCell\u001b[39m\u001b[36m \u001b[39m\u001b[32mIn[25]\u001b[39m\u001b[32m, line 1\u001b[39m\n\u001b[32m----> \u001b[39m\u001b[32m1\u001b[39m \u001b[38;5;28mprint\u001b[39m(\u001b[33m\"\u001b[39m\u001b[33mNúmero de datos evaluados:\u001b[39m\u001b[33m\"\u001b[39m, \u001b[43mprobs\u001b[49m.shape[\u001b[32m0\u001b[39m])\n",
      "\u001b[31mNameError\u001b[39m: name 'probs' is not defined"
     ]
    }
   ],
   "source": [
    "print(\"Número de datos evaluados:\", probs.shape[0])\n"
   ]
  },
  {
   "cell_type": "code",
   "execution_count": 24,
   "id": "a4ed79a2",
   "metadata": {},
   "outputs": [
    {
     "data": {
      "text/html": [
       "<div>\n",
       "<style scoped>\n",
       "    .dataframe tbody tr th:only-of-type {\n",
       "        vertical-align: middle;\n",
       "    }\n",
       "\n",
       "    .dataframe tbody tr th {\n",
       "        vertical-align: top;\n",
       "    }\n",
       "\n",
       "    .dataframe thead th {\n",
       "        text-align: right;\n",
       "    }\n",
       "</style>\n",
       "<table border=\"1\" class=\"dataframe\">\n",
       "  <thead>\n",
       "    <tr style=\"text-align: right;\">\n",
       "      <th></th>\n",
       "      <th>causa_de_muerte</th>\n",
       "      <th>sexo</th>\n",
       "      <th>provincias</th>\n",
       "      <th>mes</th>\n",
       "      <th>anio</th>\n",
       "      <th>muertes_por_causa</th>\n",
       "      <th>codigo_provincia</th>\n",
       "      <th>latitud_g</th>\n",
       "      <th>longitud_g</th>\n",
       "      <th>altitud</th>\n",
       "      <th>tipo_area</th>\n",
       "      <th>valor_ica</th>\n",
       "      <th>CATEGORIA_ICA</th>\n",
       "      <th>partido</th>\n",
       "      <th>poblacion</th>\n",
       "      <th>muertes_log</th>\n",
       "      <th>riesgo_ica</th>\n",
       "      <th>muertes_por_100k</th>\n",
       "    </tr>\n",
       "  </thead>\n",
       "  <tbody>\n",
       "    <tr>\n",
       "      <th>7898</th>\n",
       "      <td>001-008  I.Enfermedades infecciosas y parasita...</td>\n",
       "      <td>Hombres</td>\n",
       "      <td>02 Albacete</td>\n",
       "      <td>1</td>\n",
       "      <td>2022</td>\n",
       "      <td>181.539235</td>\n",
       "      <td>2</td>\n",
       "      <td>38.9808</td>\n",
       "      <td>-1.8452</td>\n",
       "      <td>691.0</td>\n",
       "      <td>SUBURBANA</td>\n",
       "      <td>22.778847</td>\n",
       "      <td>Buena</td>\n",
       "      <td>PP</td>\n",
       "      <td>199208.0</td>\n",
       "      <td>5.206965</td>\n",
       "      <td>Riesgo_ICA_Medio</td>\n",
       "      <td>91.130494</td>\n",
       "    </tr>\n",
       "    <tr>\n",
       "      <th>7899</th>\n",
       "      <td>001-008  I.Enfermedades infecciosas y parasita...</td>\n",
       "      <td>Hombres</td>\n",
       "      <td>02 Albacete</td>\n",
       "      <td>2</td>\n",
       "      <td>2022</td>\n",
       "      <td>130.835010</td>\n",
       "      <td>2</td>\n",
       "      <td>38.9808</td>\n",
       "      <td>-1.8452</td>\n",
       "      <td>691.0</td>\n",
       "      <td>SUBURBANA</td>\n",
       "      <td>20.110090</td>\n",
       "      <td>Razonablemente buena</td>\n",
       "      <td>PP</td>\n",
       "      <td>11435.0</td>\n",
       "      <td>4.881551</td>\n",
       "      <td>Riesgo_ICA_Medio</td>\n",
       "      <td>1144.162746</td>\n",
       "    </tr>\n",
       "    <tr>\n",
       "      <th>7900</th>\n",
       "      <td>001-008  I.Enfermedades infecciosas y parasita...</td>\n",
       "      <td>Hombres</td>\n",
       "      <td>02 Albacete</td>\n",
       "      <td>3</td>\n",
       "      <td>2022</td>\n",
       "      <td>150.301811</td>\n",
       "      <td>2</td>\n",
       "      <td>38.9808</td>\n",
       "      <td>-1.8452</td>\n",
       "      <td>691.0</td>\n",
       "      <td>SUBURBANA</td>\n",
       "      <td>26.769706</td>\n",
       "      <td>Buena</td>\n",
       "      <td>PP</td>\n",
       "      <td>10762.0</td>\n",
       "      <td>5.019277</td>\n",
       "      <td>Riesgo_ICA_Medio</td>\n",
       "      <td>1396.597388</td>\n",
       "    </tr>\n",
       "    <tr>\n",
       "      <th>7901</th>\n",
       "      <td>001-008  I.Enfermedades infecciosas y parasita...</td>\n",
       "      <td>Hombres</td>\n",
       "      <td>02 Albacete</td>\n",
       "      <td>4</td>\n",
       "      <td>2022</td>\n",
       "      <td>156.187123</td>\n",
       "      <td>2</td>\n",
       "      <td>38.9808</td>\n",
       "      <td>-1.8452</td>\n",
       "      <td>691.0</td>\n",
       "      <td>SUBURBANA</td>\n",
       "      <td>8.073927</td>\n",
       "      <td>Buena</td>\n",
       "      <td>PP</td>\n",
       "      <td>10089.0</td>\n",
       "      <td>5.057437</td>\n",
       "      <td>Riesgo_ICA_Bajo</td>\n",
       "      <td>1548.093198</td>\n",
       "    </tr>\n",
       "    <tr>\n",
       "      <th>7902</th>\n",
       "      <td>001-008  I.Enfermedades infecciosas y parasita...</td>\n",
       "      <td>Hombres</td>\n",
       "      <td>02 Albacete</td>\n",
       "      <td>5</td>\n",
       "      <td>2022</td>\n",
       "      <td>155.734406</td>\n",
       "      <td>2</td>\n",
       "      <td>38.9808</td>\n",
       "      <td>-1.8452</td>\n",
       "      <td>691.0</td>\n",
       "      <td>SUBURBANA</td>\n",
       "      <td>13.674748</td>\n",
       "      <td>Buena</td>\n",
       "      <td>PP</td>\n",
       "      <td>9415.0</td>\n",
       "      <td>5.054553</td>\n",
       "      <td>Riesgo_ICA_Bajo</td>\n",
       "      <td>1654.109468</td>\n",
       "    </tr>\n",
       "  </tbody>\n",
       "</table>\n",
       "</div>"
      ],
      "text/plain": [
       "                                        causa_de_muerte     sexo   provincias  \\\n",
       "7898  001-008  I.Enfermedades infecciosas y parasita...  Hombres  02 Albacete   \n",
       "7899  001-008  I.Enfermedades infecciosas y parasita...  Hombres  02 Albacete   \n",
       "7900  001-008  I.Enfermedades infecciosas y parasita...  Hombres  02 Albacete   \n",
       "7901  001-008  I.Enfermedades infecciosas y parasita...  Hombres  02 Albacete   \n",
       "7902  001-008  I.Enfermedades infecciosas y parasita...  Hombres  02 Albacete   \n",
       "\n",
       "      mes  anio  muertes_por_causa  codigo_provincia  latitud_g  longitud_g  \\\n",
       "7898    1  2022         181.539235                 2    38.9808     -1.8452   \n",
       "7899    2  2022         130.835010                 2    38.9808     -1.8452   \n",
       "7900    3  2022         150.301811                 2    38.9808     -1.8452   \n",
       "7901    4  2022         156.187123                 2    38.9808     -1.8452   \n",
       "7902    5  2022         155.734406                 2    38.9808     -1.8452   \n",
       "\n",
       "      altitud  tipo_area  valor_ica         CATEGORIA_ICA partido  poblacion  \\\n",
       "7898    691.0  SUBURBANA  22.778847                 Buena      PP   199208.0   \n",
       "7899    691.0  SUBURBANA  20.110090  Razonablemente buena      PP    11435.0   \n",
       "7900    691.0  SUBURBANA  26.769706                 Buena      PP    10762.0   \n",
       "7901    691.0  SUBURBANA   8.073927                 Buena      PP    10089.0   \n",
       "7902    691.0  SUBURBANA  13.674748                 Buena      PP     9415.0   \n",
       "\n",
       "      muertes_log        riesgo_ica  muertes_por_100k  \n",
       "7898     5.206965  Riesgo_ICA_Medio         91.130494  \n",
       "7899     4.881551  Riesgo_ICA_Medio       1144.162746  \n",
       "7900     5.019277  Riesgo_ICA_Medio       1396.597388  \n",
       "7901     5.057437   Riesgo_ICA_Bajo       1548.093198  \n",
       "7902     5.054553   Riesgo_ICA_Bajo       1654.109468  "
      ]
     },
     "execution_count": 24,
     "metadata": {},
     "output_type": "execute_result"
    }
   ],
   "source": [
    "df.head()\n"
   ]
  },
  {
   "cell_type": "code",
   "execution_count": 23,
   "id": "2bef83ac",
   "metadata": {},
   "outputs": [
    {
     "data": {
      "text/plain": [
       "['causa_de_muerte',\n",
       " 'sexo',\n",
       " 'provincias',\n",
       " 'mes',\n",
       " 'anio',\n",
       " 'muertes_por_causa',\n",
       " 'codigo_provincia',\n",
       " 'latitud_g',\n",
       " 'longitud_g',\n",
       " 'altitud',\n",
       " 'tipo_area',\n",
       " 'valor_ica',\n",
       " 'CATEGORIA_ICA',\n",
       " 'partido',\n",
       " 'poblacion',\n",
       " 'muertes_log',\n",
       " 'riesgo_ica',\n",
       " 'muertes_por_100k']"
      ]
     },
     "execution_count": 23,
     "metadata": {},
     "output_type": "execute_result"
    }
   ],
   "source": [
    "df.columns.to_list()"
   ]
  },
  {
   "cell_type": "code",
   "execution_count": 22,
   "id": "8d7c5fa8",
   "metadata": {},
   "outputs": [
    {
     "ename": "NameError",
     "evalue": "name 'best_rf' is not defined",
     "output_type": "error",
     "traceback": [
      "\u001b[31m---------------------------------------------------------------------------\u001b[39m",
      "\u001b[31mNameError\u001b[39m                                 Traceback (most recent call last)",
      "\u001b[36mCell\u001b[39m\u001b[36m \u001b[39m\u001b[32mIn[22]\u001b[39m\u001b[32m, line 4\u001b[39m\n\u001b[32m      1\u001b[39m \u001b[38;5;28;01mimport\u001b[39;00m\u001b[38;5;250m \u001b[39m\u001b[34;01mjoblib\u001b[39;00m\n\u001b[32m      3\u001b[39m \u001b[38;5;66;03m# Guardar el mejor modelo entrenado\u001b[39;00m\n\u001b[32m----> \u001b[39m\u001b[32m4\u001b[39m joblib.dump(\u001b[43mbest_rf\u001b[49m, \u001b[33m'\u001b[39m\u001b[33mmodelo_random_forest.pkl\u001b[39m\u001b[33m'\u001b[39m)\n",
      "\u001b[31mNameError\u001b[39m: name 'best_rf' is not defined"
     ]
    }
   ],
   "source": [
    "import joblib\n",
    "\n",
    "# Guardar el mejor modelo entrenado\n",
    "joblib.dump(best_rf, 'modelo_random_forest.pkl')\n"
   ]
  }
 ],
 "metadata": {
  "kernelspec": {
   "display_name": "Python 3",
   "language": "python",
   "name": "python3"
  },
  "language_info": {
   "codemirror_mode": {
    "name": "ipython",
    "version": 3
   },
   "file_extension": ".py",
   "mimetype": "text/x-python",
   "name": "python",
   "nbconvert_exporter": "python",
   "pygments_lexer": "ipython3",
   "version": "3.12.1"
  }
 },
 "nbformat": 4,
 "nbformat_minor": 5
}
